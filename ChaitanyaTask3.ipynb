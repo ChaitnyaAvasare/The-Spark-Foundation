{
  "nbformat": 4,
  "nbformat_minor": 0,
  "metadata": {
    "colab": {
      "name": "ChaitanyaTask3.ipynb",
      "provenance": [],
      "collapsed_sections": [],
      "include_colab_link": true
    },
    "kernelspec": {
      "name": "python3",
      "display_name": "Python 3"
    }
  },
  "cells": [
    {
      "cell_type": "markdown",
      "metadata": {
        "id": "view-in-github",
        "colab_type": "text"
      },
      "source": [
        "<a href=\"https://colab.research.google.com/github/ChaitnyaAvasare/The-Spark-Foundation/blob/main/ChaitanyaTask3.ipynb\" target=\"_parent\"><img src=\"https://colab.research.google.com/assets/colab-badge.svg\" alt=\"Open In Colab\"/></a>"
      ]
    },
    {
      "cell_type": "markdown",
      "metadata": {
        "id": "KvP52PNFUkr9"
      },
      "source": [
        "# Super Shop Sales Analysis"
      ]
    },
    {
      "cell_type": "code",
      "metadata": {
        "id": "2z2wiBGbaROt"
      },
      "source": [
        "import pandas as pd\n",
        "import numpy as np\n",
        "import matplotlib.pyplot as plt\n",
        "import seaborn as sns\n",
        "import folium\n",
        "import warnings\n",
        "\n",
        "plt.style.use('fivethirtyeight')\n",
        "warnings.filterwarnings(\"ignore\")"
      ],
      "execution_count": null,
      "outputs": []
    },
    {
      "cell_type": "code",
      "metadata": {
        "colab": {
          "base_uri": "https://localhost:8080/",
          "height": 204
        },
        "id": "67piryYzaZoZ",
        "outputId": "5bf5dbdf-473d-497c-b42c-1505cec1c008"
      },
      "source": [
        "file='/content/SampleSuperstore.csv'\n",
        "sales_data=pd.read_csv(file)\n",
        "sales_data.head()"
      ],
      "execution_count": null,
      "outputs": [
        {
          "output_type": "execute_result",
          "data": {
            "text/html": [
              "<div>\n",
              "<style scoped>\n",
              "    .dataframe tbody tr th:only-of-type {\n",
              "        vertical-align: middle;\n",
              "    }\n",
              "\n",
              "    .dataframe tbody tr th {\n",
              "        vertical-align: top;\n",
              "    }\n",
              "\n",
              "    .dataframe thead th {\n",
              "        text-align: right;\n",
              "    }\n",
              "</style>\n",
              "<table border=\"1\" class=\"dataframe\">\n",
              "  <thead>\n",
              "    <tr style=\"text-align: right;\">\n",
              "      <th></th>\n",
              "      <th>Ship Mode</th>\n",
              "      <th>Segment</th>\n",
              "      <th>Country</th>\n",
              "      <th>City</th>\n",
              "      <th>State</th>\n",
              "      <th>Postal Code</th>\n",
              "      <th>Region</th>\n",
              "      <th>Category</th>\n",
              "      <th>Sub-Category</th>\n",
              "      <th>Sales</th>\n",
              "      <th>Quantity</th>\n",
              "      <th>Discount</th>\n",
              "      <th>Profit</th>\n",
              "    </tr>\n",
              "  </thead>\n",
              "  <tbody>\n",
              "    <tr>\n",
              "      <th>0</th>\n",
              "      <td>Second Class</td>\n",
              "      <td>Consumer</td>\n",
              "      <td>United States</td>\n",
              "      <td>Henderson</td>\n",
              "      <td>Kentucky</td>\n",
              "      <td>42420</td>\n",
              "      <td>South</td>\n",
              "      <td>Furniture</td>\n",
              "      <td>Bookcases</td>\n",
              "      <td>261.9600</td>\n",
              "      <td>2</td>\n",
              "      <td>0.00</td>\n",
              "      <td>41.9136</td>\n",
              "    </tr>\n",
              "    <tr>\n",
              "      <th>1</th>\n",
              "      <td>Second Class</td>\n",
              "      <td>Consumer</td>\n",
              "      <td>United States</td>\n",
              "      <td>Henderson</td>\n",
              "      <td>Kentucky</td>\n",
              "      <td>42420</td>\n",
              "      <td>South</td>\n",
              "      <td>Furniture</td>\n",
              "      <td>Chairs</td>\n",
              "      <td>731.9400</td>\n",
              "      <td>3</td>\n",
              "      <td>0.00</td>\n",
              "      <td>219.5820</td>\n",
              "    </tr>\n",
              "    <tr>\n",
              "      <th>2</th>\n",
              "      <td>Second Class</td>\n",
              "      <td>Corporate</td>\n",
              "      <td>United States</td>\n",
              "      <td>Los Angeles</td>\n",
              "      <td>California</td>\n",
              "      <td>90036</td>\n",
              "      <td>West</td>\n",
              "      <td>Office Supplies</td>\n",
              "      <td>Labels</td>\n",
              "      <td>14.6200</td>\n",
              "      <td>2</td>\n",
              "      <td>0.00</td>\n",
              "      <td>6.8714</td>\n",
              "    </tr>\n",
              "    <tr>\n",
              "      <th>3</th>\n",
              "      <td>Standard Class</td>\n",
              "      <td>Consumer</td>\n",
              "      <td>United States</td>\n",
              "      <td>Fort Lauderdale</td>\n",
              "      <td>Florida</td>\n",
              "      <td>33311</td>\n",
              "      <td>South</td>\n",
              "      <td>Furniture</td>\n",
              "      <td>Tables</td>\n",
              "      <td>957.5775</td>\n",
              "      <td>5</td>\n",
              "      <td>0.45</td>\n",
              "      <td>-383.0310</td>\n",
              "    </tr>\n",
              "    <tr>\n",
              "      <th>4</th>\n",
              "      <td>Standard Class</td>\n",
              "      <td>Consumer</td>\n",
              "      <td>United States</td>\n",
              "      <td>Fort Lauderdale</td>\n",
              "      <td>Florida</td>\n",
              "      <td>33311</td>\n",
              "      <td>South</td>\n",
              "      <td>Office Supplies</td>\n",
              "      <td>Storage</td>\n",
              "      <td>22.3680</td>\n",
              "      <td>2</td>\n",
              "      <td>0.20</td>\n",
              "      <td>2.5164</td>\n",
              "    </tr>\n",
              "  </tbody>\n",
              "</table>\n",
              "</div>"
            ],
            "text/plain": [
              "        Ship Mode    Segment        Country  ... Quantity Discount    Profit\n",
              "0    Second Class   Consumer  United States  ...        2     0.00   41.9136\n",
              "1    Second Class   Consumer  United States  ...        3     0.00  219.5820\n",
              "2    Second Class  Corporate  United States  ...        2     0.00    6.8714\n",
              "3  Standard Class   Consumer  United States  ...        5     0.45 -383.0310\n",
              "4  Standard Class   Consumer  United States  ...        2     0.20    2.5164\n",
              "\n",
              "[5 rows x 13 columns]"
            ]
          },
          "metadata": {
            "tags": []
          },
          "execution_count": 2
        }
      ]
    },
    {
      "cell_type": "code",
      "metadata": {
        "colab": {
          "base_uri": "https://localhost:8080/"
        },
        "id": "w6xW7If0apfT",
        "outputId": "b65b190b-6b35-4471-e149-268d856c443e"
      },
      "source": [
        "print('This data has {} rows and {} columns'.format(sales_data.shape[0], sales_data.shape[1]))"
      ],
      "execution_count": null,
      "outputs": [
        {
          "output_type": "stream",
          "text": [
            "This data has 9994 rows and 13 columns\n"
          ],
          "name": "stdout"
        }
      ]
    },
    {
      "cell_type": "markdown",
      "metadata": {
        "id": "wmWz9BBeV6t-"
      },
      "source": [
        "### The Super Store dataset doesn’t need any data processing as it is already in a clean form, the dataset is ready for the analysis."
      ]
    },
    {
      "cell_type": "code",
      "metadata": {
        "colab": {
          "base_uri": "https://localhost:8080/"
        },
        "id": "0TNp53AfcgdF",
        "outputId": "eadc4146-9588-4aad-da44-c02149be8808"
      },
      "source": [
        "sales_data.isnull().sum()"
      ],
      "execution_count": null,
      "outputs": [
        {
          "output_type": "execute_result",
          "data": {
            "text/plain": [
              "Ship Mode       0\n",
              "Segment         0\n",
              "Country         0\n",
              "City            0\n",
              "State           0\n",
              "Postal Code     0\n",
              "Region          0\n",
              "Category        0\n",
              "Sub-Category    0\n",
              "Sales           0\n",
              "Quantity        0\n",
              "Discount        0\n",
              "Profit          0\n",
              "dtype: int64"
            ]
          },
          "metadata": {
            "tags": []
          },
          "execution_count": 4
        }
      ]
    },
    {
      "cell_type": "markdown",
      "metadata": {
        "id": "R4ftHrnxZbEf"
      },
      "source": [
        "## Exploratory Data Analysis"
      ]
    },
    {
      "cell_type": "markdown",
      "metadata": {
        "id": "o4DJ8tMbWAzL"
      },
      "source": [
        "### The Super Store has 3 categories of products"
      ]
    },
    {
      "cell_type": "code",
      "metadata": {
        "colab": {
          "base_uri": "https://localhost:8080/"
        },
        "id": "xX3nMSVEwU6F",
        "outputId": "66cefd45-8bdc-4d6c-defe-a91b82b550fb"
      },
      "source": [
        "sales_data.Category.unique()"
      ],
      "execution_count": null,
      "outputs": [
        {
          "output_type": "execute_result",
          "data": {
            "text/plain": [
              "array(['Furniture', 'Office Supplies', 'Technology'], dtype=object)"
            ]
          },
          "metadata": {
            "tags": []
          },
          "execution_count": 5
        }
      ]
    },
    {
      "cell_type": "markdown",
      "metadata": {
        "id": "61Ud-lM0WFyy"
      },
      "source": [
        "### And 17 sub-categories"
      ]
    },
    {
      "cell_type": "code",
      "metadata": {
        "colab": {
          "base_uri": "https://localhost:8080/"
        },
        "id": "RyiGkGbuwuzh",
        "outputId": "da93f29e-ec57-4ce2-dc07-e98554fda20a"
      },
      "source": [
        "sales_data['Sub-Category'].unique()"
      ],
      "execution_count": null,
      "outputs": [
        {
          "output_type": "execute_result",
          "data": {
            "text/plain": [
              "array(['Bookcases', 'Chairs', 'Labels', 'Tables', 'Storage',\n",
              "       'Furnishings', 'Art', 'Phones', 'Binders', 'Appliances', 'Paper',\n",
              "       'Accessories', 'Envelopes', 'Fasteners', 'Supplies', 'Machines',\n",
              "       'Copiers'], dtype=object)"
            ]
          },
          "metadata": {
            "tags": []
          },
          "execution_count": 6
        }
      ]
    },
    {
      "cell_type": "markdown",
      "metadata": {
        "id": "gARzMuOFWOi5"
      },
      "source": [
        "\n",
        "## Let’s now examine the sales and profit by the 3 categories.\n"
      ]
    },
    {
      "cell_type": "code",
      "metadata": {
        "colab": {
          "base_uri": "https://localhost:8080/",
          "height": 210
        },
        "id": "TDWp_uK3CEAQ",
        "outputId": "cbbd55ef-7971-479a-d1d5-5c019aeb2274"
      },
      "source": [
        "sales_by_category=sales_data.groupby('Category').sum().reset_index()\n",
        "sales_by_category['Sales%']=(sales_by_category.Sales/sales_by_category.Sales.sum())*100\n",
        "sales_by_category['Profit%']=(sales_by_category.Profit/sales_by_category.Profit.sum())*100\n",
        "display(sales_by_category)\n",
        "\n",
        "print(' ')\n",
        "print('Total sales % by Technology is {:.2F}% and profit % is {:.2F}% '.format(sales_by_category['Sales%'][2],sales_by_category['Profit%'][2]))\n",
        "print('Total sales % by Furniture is {:.2F}% and profit % is {:.2F}% '.format(sales_by_category['Sales%'][0],sales_by_category['Profit%'][0]))\n",
        "print('Total sales % by Office Supplies is {:.2F}% and profit % is {:.2F}% '.format(sales_by_category['Sales%'][1],sales_by_category['Profit%'][1]))"
      ],
      "execution_count": null,
      "outputs": [
        {
          "output_type": "display_data",
          "data": {
            "text/html": [
              "<div>\n",
              "<style scoped>\n",
              "    .dataframe tbody tr th:only-of-type {\n",
              "        vertical-align: middle;\n",
              "    }\n",
              "\n",
              "    .dataframe tbody tr th {\n",
              "        vertical-align: top;\n",
              "    }\n",
              "\n",
              "    .dataframe thead th {\n",
              "        text-align: right;\n",
              "    }\n",
              "</style>\n",
              "<table border=\"1\" class=\"dataframe\">\n",
              "  <thead>\n",
              "    <tr style=\"text-align: right;\">\n",
              "      <th></th>\n",
              "      <th>Category</th>\n",
              "      <th>Postal Code</th>\n",
              "      <th>Sales</th>\n",
              "      <th>Quantity</th>\n",
              "      <th>Discount</th>\n",
              "      <th>Profit</th>\n",
              "      <th>Sales%</th>\n",
              "      <th>Profit%</th>\n",
              "    </tr>\n",
              "  </thead>\n",
              "  <tbody>\n",
              "    <tr>\n",
              "      <th>0</th>\n",
              "      <td>Furniture</td>\n",
              "      <td>118196026</td>\n",
              "      <td>741999.7953</td>\n",
              "      <td>8028</td>\n",
              "      <td>368.89</td>\n",
              "      <td>18451.2728</td>\n",
              "      <td>32.300171</td>\n",
              "      <td>6.442551</td>\n",
              "    </tr>\n",
              "    <tr>\n",
              "      <th>1</th>\n",
              "      <td>Office Supplies</td>\n",
              "      <td>330772872</td>\n",
              "      <td>719047.0320</td>\n",
              "      <td>22906</td>\n",
              "      <td>947.80</td>\n",
              "      <td>122490.8008</td>\n",
              "      <td>31.301008</td>\n",
              "      <td>42.769579</td>\n",
              "    </tr>\n",
              "    <tr>\n",
              "      <th>2</th>\n",
              "      <td>Technology</td>\n",
              "      <td>102603754</td>\n",
              "      <td>836154.0330</td>\n",
              "      <td>6939</td>\n",
              "      <td>244.40</td>\n",
              "      <td>145454.9481</td>\n",
              "      <td>36.398821</td>\n",
              "      <td>50.787870</td>\n",
              "    </tr>\n",
              "  </tbody>\n",
              "</table>\n",
              "</div>"
            ],
            "text/plain": [
              "          Category  Postal Code        Sales  ...       Profit     Sales%    Profit%\n",
              "0        Furniture    118196026  741999.7953  ...   18451.2728  32.300171   6.442551\n",
              "1  Office Supplies    330772872  719047.0320  ...  122490.8008  31.301008  42.769579\n",
              "2       Technology    102603754  836154.0330  ...  145454.9481  36.398821  50.787870\n",
              "\n",
              "[3 rows x 8 columns]"
            ]
          },
          "metadata": {
            "tags": []
          }
        },
        {
          "output_type": "stream",
          "text": [
            " \n",
            "Total sales % by Technology is 36.40% and profit % is 50.79% \n",
            "Total sales % by Furniture is 32.30% and profit % is 6.44% \n",
            "Total sales % by Office Supplies is 31.30% and profit % is 42.77% \n"
          ],
          "name": "stdout"
        }
      ]
    },
    {
      "cell_type": "markdown",
      "metadata": {
        "id": "e9zignxCW0WU"
      },
      "source": [
        "## Let's visualize the data"
      ]
    },
    {
      "cell_type": "code",
      "metadata": {
        "colab": {
          "base_uri": "https://localhost:8080/",
          "height": 313
        },
        "id": "5k2uUjXmxHYN",
        "outputId": "badd183e-963a-4ea7-c250-57b7cd4f53b5"
      },
      "source": [
        "fig=plt.figure(figsize=(18,4))\n",
        "ax1=fig.add_subplot(121)\n",
        "ax2=fig.add_subplot(122)\n",
        "sns.barplot(sales_by_category.Category,sales_by_category.Sales,ax=ax1)\n",
        "ax1.set_title(\"Sales by Category\")\n",
        "sns.barplot(sales_by_category.Category,sales_by_category.Profit,ax=ax2)\n",
        "ax2.set_title(\"Profit by Category\")"
      ],
      "execution_count": null,
      "outputs": [
        {
          "output_type": "execute_result",
          "data": {
            "text/plain": [
              "Text(0.5, 1.0, 'Profit by Category')"
            ]
          },
          "metadata": {
            "tags": []
          },
          "execution_count": 32
        },
        {
          "output_type": "display_data",
          "data": {
            "image/png": "[encoded data removed]",
            "text/plain": [
              "<Figure size 1296x288 with 2 Axes>"
            ]
          },
          "metadata": {
            "tags": [],
            "needs_background": "light"
          }
        }
      ]
    },
    {
      "cell_type": "markdown",
      "metadata": {
        "id": "D2p3HtpOXMzN"
      },
      "source": [
        "As we can see the Technology category has the highest sales and profit having total sales of \\$836k  and profit of \\$145K.\n",
        "The Furniture category has a total sales of \\$741K and profit of \\$18K\n",
        "The Office Supplies category has a total sales of \\$719K and profit of \\$122K\n"
      ]
    },
    {
      "cell_type": "markdown",
      "metadata": {
        "id": "aH94ALWlXl-U"
      },
      "source": [
        "## Let’s now examine the sales and profit by the sub-categories."
      ]
    },
    {
      "cell_type": "code",
      "metadata": {
        "colab": {
          "base_uri": "https://localhost:8080/",
          "height": 576
        },
        "id": "F9j84mmBCSOT",
        "outputId": "22072a76-ba41-4bf5-9500-27eb70a997df"
      },
      "source": [
        "sales_by_subcategory=sales_data.groupby('Sub-Category').sum().sort_values(ascending=False,by='Sales').reset_index()\n",
        "sales_by_subcategory['Sales%']=(sales_by_subcategory.Sales/sales_by_category.Sales.sum())*100\n",
        "sales_by_subcategory['Profit%']=(sales_by_subcategory.Profit/sales_by_category.Profit.sum())*100\n",
        "sales_by_subcategory"
      ],
      "execution_count": null,
      "outputs": [
        {
          "output_type": "execute_result",
          "data": {
            "text/html": [
              "<div>\n",
              "<style scoped>\n",
              "    .dataframe tbody tr th:only-of-type {\n",
              "        vertical-align: middle;\n",
              "    }\n",
              "\n",
              "    .dataframe tbody tr th {\n",
              "        vertical-align: top;\n",
              "    }\n",
              "\n",
              "    .dataframe thead th {\n",
              "        text-align: right;\n",
              "    }\n",
              "</style>\n",
              "<table border=\"1\" class=\"dataframe\">\n",
              "  <thead>\n",
              "    <tr style=\"text-align: right;\">\n",
              "      <th></th>\n",
              "      <th>Sub-Category</th>\n",
              "      <th>Postal Code</th>\n",
              "      <th>Sales</th>\n",
              "      <th>Quantity</th>\n",
              "      <th>Discount</th>\n",
              "      <th>Profit</th>\n",
              "      <th>Sales%</th>\n",
              "      <th>Profit%</th>\n",
              "    </tr>\n",
              "  </thead>\n",
              "  <tbody>\n",
              "    <tr>\n",
              "      <th>0</th>\n",
              "      <td>Phones</td>\n",
              "      <td>47897175</td>\n",
              "      <td>330007.0540</td>\n",
              "      <td>3289</td>\n",
              "      <td>137.40</td>\n",
              "      <td>44515.7306</td>\n",
              "      <td>14.365616</td>\n",
              "      <td>15.543364</td>\n",
              "    </tr>\n",
              "    <tr>\n",
              "      <th>1</th>\n",
              "      <td>Chairs</td>\n",
              "      <td>34936229</td>\n",
              "      <td>328449.1030</td>\n",
              "      <td>2356</td>\n",
              "      <td>105.00</td>\n",
              "      <td>26590.1663</td>\n",
              "      <td>14.297796</td>\n",
              "      <td>9.284372</td>\n",
              "    </tr>\n",
              "    <tr>\n",
              "      <th>2</th>\n",
              "      <td>Storage</td>\n",
              "      <td>46248720</td>\n",
              "      <td>223843.6080</td>\n",
              "      <td>3158</td>\n",
              "      <td>63.20</td>\n",
              "      <td>21278.8264</td>\n",
              "      <td>9.744190</td>\n",
              "      <td>7.429835</td>\n",
              "    </tr>\n",
              "    <tr>\n",
              "      <th>3</th>\n",
              "      <td>Tables</td>\n",
              "      <td>18607828</td>\n",
              "      <td>206965.5320</td>\n",
              "      <td>1241</td>\n",
              "      <td>83.35</td>\n",
              "      <td>-17725.4811</td>\n",
              "      <td>9.009466</td>\n",
              "      <td>-6.189129</td>\n",
              "    </tr>\n",
              "    <tr>\n",
              "      <th>4</th>\n",
              "      <td>Binders</td>\n",
              "      <td>83626398</td>\n",
              "      <td>203412.7330</td>\n",
              "      <td>5974</td>\n",
              "      <td>567.00</td>\n",
              "      <td>30221.7633</td>\n",
              "      <td>8.854808</td>\n",
              "      <td>10.552401</td>\n",
              "    </tr>\n",
              "    <tr>\n",
              "      <th>5</th>\n",
              "      <td>Machines</td>\n",
              "      <td>6364668</td>\n",
              "      <td>189238.6310</td>\n",
              "      <td>440</td>\n",
              "      <td>35.20</td>\n",
              "      <td>3384.7569</td>\n",
              "      <td>8.237792</td>\n",
              "      <td>1.181841</td>\n",
              "    </tr>\n",
              "    <tr>\n",
              "      <th>6</th>\n",
              "      <td>Accessories</td>\n",
              "      <td>44468434</td>\n",
              "      <td>167380.3180</td>\n",
              "      <td>2976</td>\n",
              "      <td>60.80</td>\n",
              "      <td>41936.6357</td>\n",
              "      <td>7.286273</td>\n",
              "      <td>14.642832</td>\n",
              "    </tr>\n",
              "    <tr>\n",
              "      <th>7</th>\n",
              "      <td>Copiers</td>\n",
              "      <td>3873477</td>\n",
              "      <td>149528.0300</td>\n",
              "      <td>234</td>\n",
              "      <td>11.00</td>\n",
              "      <td>55617.8249</td>\n",
              "      <td>6.509140</td>\n",
              "      <td>19.419834</td>\n",
              "    </tr>\n",
              "    <tr>\n",
              "      <th>8</th>\n",
              "      <td>Bookcases</td>\n",
              "      <td>12771539</td>\n",
              "      <td>114879.9963</td>\n",
              "      <td>868</td>\n",
              "      <td>48.14</td>\n",
              "      <td>-3472.5560</td>\n",
              "      <td>5.000869</td>\n",
              "      <td>-1.212497</td>\n",
              "    </tr>\n",
              "    <tr>\n",
              "      <th>9</th>\n",
              "      <td>Appliances</td>\n",
              "      <td>25250538</td>\n",
              "      <td>107532.1610</td>\n",
              "      <td>1729</td>\n",
              "      <td>77.60</td>\n",
              "      <td>18138.0054</td>\n",
              "      <td>4.681008</td>\n",
              "      <td>6.333168</td>\n",
              "    </tr>\n",
              "    <tr>\n",
              "      <th>10</th>\n",
              "      <td>Furnishings</td>\n",
              "      <td>51880430</td>\n",
              "      <td>91705.1640</td>\n",
              "      <td>3563</td>\n",
              "      <td>132.40</td>\n",
              "      <td>13059.1436</td>\n",
              "      <td>3.992039</td>\n",
              "      <td>4.559804</td>\n",
              "    </tr>\n",
              "    <tr>\n",
              "      <th>11</th>\n",
              "      <td>Paper</td>\n",
              "      <td>76299221</td>\n",
              "      <td>78479.2060</td>\n",
              "      <td>5178</td>\n",
              "      <td>102.60</td>\n",
              "      <td>34053.5693</td>\n",
              "      <td>3.416297</td>\n",
              "      <td>11.890336</td>\n",
              "    </tr>\n",
              "    <tr>\n",
              "      <th>12</th>\n",
              "      <td>Supplies</td>\n",
              "      <td>10633558</td>\n",
              "      <td>46673.5380</td>\n",
              "      <td>647</td>\n",
              "      <td>14.60</td>\n",
              "      <td>-1189.0995</td>\n",
              "      <td>2.031757</td>\n",
              "      <td>-0.415193</td>\n",
              "    </tr>\n",
              "    <tr>\n",
              "      <th>13</th>\n",
              "      <td>Art</td>\n",
              "      <td>43329658</td>\n",
              "      <td>27118.7920</td>\n",
              "      <td>3000</td>\n",
              "      <td>59.60</td>\n",
              "      <td>6527.7870</td>\n",
              "      <td>1.180515</td>\n",
              "      <td>2.279279</td>\n",
              "    </tr>\n",
              "    <tr>\n",
              "      <th>14</th>\n",
              "      <td>Envelopes</td>\n",
              "      <td>13325731</td>\n",
              "      <td>16476.4020</td>\n",
              "      <td>906</td>\n",
              "      <td>20.40</td>\n",
              "      <td>6964.1767</td>\n",
              "      <td>0.717238</td>\n",
              "      <td>2.431651</td>\n",
              "    </tr>\n",
              "    <tr>\n",
              "      <th>15</th>\n",
              "      <td>Labels</td>\n",
              "      <td>19552985</td>\n",
              "      <td>12486.3120</td>\n",
              "      <td>1400</td>\n",
              "      <td>25.00</td>\n",
              "      <td>5546.2540</td>\n",
              "      <td>0.543545</td>\n",
              "      <td>1.936561</td>\n",
              "    </tr>\n",
              "    <tr>\n",
              "      <th>16</th>\n",
              "      <td>Fasteners</td>\n",
              "      <td>12506063</td>\n",
              "      <td>3024.2800</td>\n",
              "      <td>914</td>\n",
              "      <td>17.80</td>\n",
              "      <td>949.5182</td>\n",
              "      <td>0.131651</td>\n",
              "      <td>0.331539</td>\n",
              "    </tr>\n",
              "  </tbody>\n",
              "</table>\n",
              "</div>"
            ],
            "text/plain": [
              "   Sub-Category  Postal Code        Sales  ...      Profit     Sales%    Profit%\n",
              "0        Phones     47897175  330007.0540  ...  44515.7306  14.365616  15.543364\n",
              "1        Chairs     34936229  328449.1030  ...  26590.1663  14.297796   9.284372\n",
              "2       Storage     46248720  223843.6080  ...  21278.8264   9.744190   7.429835\n",
              "3        Tables     18607828  206965.5320  ... -17725.4811   9.009466  -6.189129\n",
              "4       Binders     83626398  203412.7330  ...  30221.7633   8.854808  10.552401\n",
              "5      Machines      6364668  189238.6310  ...   3384.7569   8.237792   1.181841\n",
              "6   Accessories     44468434  167380.3180  ...  41936.6357   7.286273  14.642832\n",
              "7       Copiers      3873477  149528.0300  ...  55617.8249   6.509140  19.419834\n",
              "8     Bookcases     12771539  114879.9963  ...  -3472.5560   5.000869  -1.212497\n",
              "9    Appliances     25250538  107532.1610  ...  18138.0054   4.681008   6.333168\n",
              "10  Furnishings     51880430   91705.1640  ...  13059.1436   3.992039   4.559804\n",
              "11        Paper     76299221   78479.2060  ...  34053.5693   3.416297  11.890336\n",
              "12     Supplies     10633558   46673.5380  ...  -1189.0995   2.031757  -0.415193\n",
              "13          Art     43329658   27118.7920  ...   6527.7870   1.180515   2.279279\n",
              "14    Envelopes     13325731   16476.4020  ...   6964.1767   0.717238   2.431651\n",
              "15       Labels     19552985   12486.3120  ...   5546.2540   0.543545   1.936561\n",
              "16    Fasteners     12506063    3024.2800  ...    949.5182   0.131651   0.331539\n",
              "\n",
              "[17 rows x 8 columns]"
            ]
          },
          "metadata": {
            "tags": []
          },
          "execution_count": 9
        }
      ]
    },
    {
      "cell_type": "markdown",
      "metadata": {
        "id": "5qInArnQX_LQ"
      },
      "source": [
        "## Let's visualize the data."
      ]
    },
    {
      "cell_type": "code",
      "metadata": {
        "colab": {
          "base_uri": "https://localhost:8080/",
          "height": 405
        },
        "id": "fQ_uRzPh1E0T",
        "outputId": "2e2fcbb5-bebf-4ddc-d0c9-00b6d7820a5d"
      },
      "source": [
        "plt.subplots(figsize=(18,6))\n",
        "sns.barplot(x = \"Sub-Category\", y = \"Sales\", data=sales_by_subcategory)"
      ],
      "execution_count": null,
      "outputs": [
        {
          "output_type": "execute_result",
          "data": {
            "text/plain": [
              "<matplotlib.axes._subplots.AxesSubplot at 0x7f7e8b4bf790>"
            ]
          },
          "metadata": {
            "tags": []
          },
          "execution_count": 10
        },
        {
          "output_type": "display_data",
          "data": {
            "image/png": "[encoded data removed]",
            "text/plain": [
              "<Figure size 1296x432 with 1 Axes>"
            ]
          },
          "metadata": {
            "tags": [],
            "needs_background": "light"
          }
        }
      ]
    },
    {
      "cell_type": "markdown",
      "metadata": {
        "id": "q3BgsP2qYKsc"
      },
      "source": [
        "As we can see the sub-categories Phones and Chairs holds the top spots for the most sales, the Phones sub-category has a total sales of $330K and the Chairs sub-category has \\$328K."
      ]
    },
    {
      "cell_type": "markdown",
      "metadata": {
        "id": "HW0LvHCwYQyk"
      },
      "source": [
        "## Let’s now look into profits by sub-categories."
      ]
    },
    {
      "cell_type": "code",
      "metadata": {
        "colab": {
          "base_uri": "https://localhost:8080/",
          "height": 576
        },
        "id": "LJdXq5ZVDdJb",
        "outputId": "45f7742e-4cfe-4f93-9dba-2706aeb06b31"
      },
      "source": [
        "profit_by_subcategory=sales_by_subcategory.sort_values(ascending=False,by='Profit').reset_index(drop=True)\n",
        "profit_by_subcategory"
      ],
      "execution_count": null,
      "outputs": [
        {
          "output_type": "execute_result",
          "data": {
            "text/html": [
              "<div>\n",
              "<style scoped>\n",
              "    .dataframe tbody tr th:only-of-type {\n",
              "        vertical-align: middle;\n",
              "    }\n",
              "\n",
              "    .dataframe tbody tr th {\n",
              "        vertical-align: top;\n",
              "    }\n",
              "\n",
              "    .dataframe thead th {\n",
              "        text-align: right;\n",
              "    }\n",
              "</style>\n",
              "<table border=\"1\" class=\"dataframe\">\n",
              "  <thead>\n",
              "    <tr style=\"text-align: right;\">\n",
              "      <th></th>\n",
              "      <th>Sub-Category</th>\n",
              "      <th>Postal Code</th>\n",
              "      <th>Sales</th>\n",
              "      <th>Quantity</th>\n",
              "      <th>Discount</th>\n",
              "      <th>Profit</th>\n",
              "      <th>Sales%</th>\n",
              "      <th>Profit%</th>\n",
              "    </tr>\n",
              "  </thead>\n",
              "  <tbody>\n",
              "    <tr>\n",
              "      <th>0</th>\n",
              "      <td>Copiers</td>\n",
              "      <td>3873477</td>\n",
              "      <td>149528.0300</td>\n",
              "      <td>234</td>\n",
              "      <td>11.00</td>\n",
              "      <td>55617.8249</td>\n",
              "      <td>6.509140</td>\n",
              "      <td>19.419834</td>\n",
              "    </tr>\n",
              "    <tr>\n",
              "      <th>1</th>\n",
              "      <td>Phones</td>\n",
              "      <td>47897175</td>\n",
              "      <td>330007.0540</td>\n",
              "      <td>3289</td>\n",
              "      <td>137.40</td>\n",
              "      <td>44515.7306</td>\n",
              "      <td>14.365616</td>\n",
              "      <td>15.543364</td>\n",
              "    </tr>\n",
              "    <tr>\n",
              "      <th>2</th>\n",
              "      <td>Accessories</td>\n",
              "      <td>44468434</td>\n",
              "      <td>167380.3180</td>\n",
              "      <td>2976</td>\n",
              "      <td>60.80</td>\n",
              "      <td>41936.6357</td>\n",
              "      <td>7.286273</td>\n",
              "      <td>14.642832</td>\n",
              "    </tr>\n",
              "    <tr>\n",
              "      <th>3</th>\n",
              "      <td>Paper</td>\n",
              "      <td>76299221</td>\n",
              "      <td>78479.2060</td>\n",
              "      <td>5178</td>\n",
              "      <td>102.60</td>\n",
              "      <td>34053.5693</td>\n",
              "      <td>3.416297</td>\n",
              "      <td>11.890336</td>\n",
              "    </tr>\n",
              "    <tr>\n",
              "      <th>4</th>\n",
              "      <td>Binders</td>\n",
              "      <td>83626398</td>\n",
              "      <td>203412.7330</td>\n",
              "      <td>5974</td>\n",
              "      <td>567.00</td>\n",
              "      <td>30221.7633</td>\n",
              "      <td>8.854808</td>\n",
              "      <td>10.552401</td>\n",
              "    </tr>\n",
              "    <tr>\n",
              "      <th>5</th>\n",
              "      <td>Chairs</td>\n",
              "      <td>34936229</td>\n",
              "      <td>328449.1030</td>\n",
              "      <td>2356</td>\n",
              "      <td>105.00</td>\n",
              "      <td>26590.1663</td>\n",
              "      <td>14.297796</td>\n",
              "      <td>9.284372</td>\n",
              "    </tr>\n",
              "    <tr>\n",
              "      <th>6</th>\n",
              "      <td>Storage</td>\n",
              "      <td>46248720</td>\n",
              "      <td>223843.6080</td>\n",
              "      <td>3158</td>\n",
              "      <td>63.20</td>\n",
              "      <td>21278.8264</td>\n",
              "      <td>9.744190</td>\n",
              "      <td>7.429835</td>\n",
              "    </tr>\n",
              "    <tr>\n",
              "      <th>7</th>\n",
              "      <td>Appliances</td>\n",
              "      <td>25250538</td>\n",
              "      <td>107532.1610</td>\n",
              "      <td>1729</td>\n",
              "      <td>77.60</td>\n",
              "      <td>18138.0054</td>\n",
              "      <td>4.681008</td>\n",
              "      <td>6.333168</td>\n",
              "    </tr>\n",
              "    <tr>\n",
              "      <th>8</th>\n",
              "      <td>Furnishings</td>\n",
              "      <td>51880430</td>\n",
              "      <td>91705.1640</td>\n",
              "      <td>3563</td>\n",
              "      <td>132.40</td>\n",
              "      <td>13059.1436</td>\n",
              "      <td>3.992039</td>\n",
              "      <td>4.559804</td>\n",
              "    </tr>\n",
              "    <tr>\n",
              "      <th>9</th>\n",
              "      <td>Envelopes</td>\n",
              "      <td>13325731</td>\n",
              "      <td>16476.4020</td>\n",
              "      <td>906</td>\n",
              "      <td>20.40</td>\n",
              "      <td>6964.1767</td>\n",
              "      <td>0.717238</td>\n",
              "      <td>2.431651</td>\n",
              "    </tr>\n",
              "    <tr>\n",
              "      <th>10</th>\n",
              "      <td>Art</td>\n",
              "      <td>43329658</td>\n",
              "      <td>27118.7920</td>\n",
              "      <td>3000</td>\n",
              "      <td>59.60</td>\n",
              "      <td>6527.7870</td>\n",
              "      <td>1.180515</td>\n",
              "      <td>2.279279</td>\n",
              "    </tr>\n",
              "    <tr>\n",
              "      <th>11</th>\n",
              "      <td>Labels</td>\n",
              "      <td>19552985</td>\n",
              "      <td>12486.3120</td>\n",
              "      <td>1400</td>\n",
              "      <td>25.00</td>\n",
              "      <td>5546.2540</td>\n",
              "      <td>0.543545</td>\n",
              "      <td>1.936561</td>\n",
              "    </tr>\n",
              "    <tr>\n",
              "      <th>12</th>\n",
              "      <td>Machines</td>\n",
              "      <td>6364668</td>\n",
              "      <td>189238.6310</td>\n",
              "      <td>440</td>\n",
              "      <td>35.20</td>\n",
              "      <td>3384.7569</td>\n",
              "      <td>8.237792</td>\n",
              "      <td>1.181841</td>\n",
              "    </tr>\n",
              "    <tr>\n",
              "      <th>13</th>\n",
              "      <td>Fasteners</td>\n",
              "      <td>12506063</td>\n",
              "      <td>3024.2800</td>\n",
              "      <td>914</td>\n",
              "      <td>17.80</td>\n",
              "      <td>949.5182</td>\n",
              "      <td>0.131651</td>\n",
              "      <td>0.331539</td>\n",
              "    </tr>\n",
              "    <tr>\n",
              "      <th>14</th>\n",
              "      <td>Supplies</td>\n",
              "      <td>10633558</td>\n",
              "      <td>46673.5380</td>\n",
              "      <td>647</td>\n",
              "      <td>14.60</td>\n",
              "      <td>-1189.0995</td>\n",
              "      <td>2.031757</td>\n",
              "      <td>-0.415193</td>\n",
              "    </tr>\n",
              "    <tr>\n",
              "      <th>15</th>\n",
              "      <td>Bookcases</td>\n",
              "      <td>12771539</td>\n",
              "      <td>114879.9963</td>\n",
              "      <td>868</td>\n",
              "      <td>48.14</td>\n",
              "      <td>-3472.5560</td>\n",
              "      <td>5.000869</td>\n",
              "      <td>-1.212497</td>\n",
              "    </tr>\n",
              "    <tr>\n",
              "      <th>16</th>\n",
              "      <td>Tables</td>\n",
              "      <td>18607828</td>\n",
              "      <td>206965.5320</td>\n",
              "      <td>1241</td>\n",
              "      <td>83.35</td>\n",
              "      <td>-17725.4811</td>\n",
              "      <td>9.009466</td>\n",
              "      <td>-6.189129</td>\n",
              "    </tr>\n",
              "  </tbody>\n",
              "</table>\n",
              "</div>"
            ],
            "text/plain": [
              "   Sub-Category  Postal Code        Sales  ...      Profit     Sales%    Profit%\n",
              "0       Copiers      3873477  149528.0300  ...  55617.8249   6.509140  19.419834\n",
              "1        Phones     47897175  330007.0540  ...  44515.7306  14.365616  15.543364\n",
              "2   Accessories     44468434  167380.3180  ...  41936.6357   7.286273  14.642832\n",
              "3         Paper     76299221   78479.2060  ...  34053.5693   3.416297  11.890336\n",
              "4       Binders     83626398  203412.7330  ...  30221.7633   8.854808  10.552401\n",
              "5        Chairs     34936229  328449.1030  ...  26590.1663  14.297796   9.284372\n",
              "6       Storage     46248720  223843.6080  ...  21278.8264   9.744190   7.429835\n",
              "7    Appliances     25250538  107532.1610  ...  18138.0054   4.681008   6.333168\n",
              "8   Furnishings     51880430   91705.1640  ...  13059.1436   3.992039   4.559804\n",
              "9     Envelopes     13325731   16476.4020  ...   6964.1767   0.717238   2.431651\n",
              "10          Art     43329658   27118.7920  ...   6527.7870   1.180515   2.279279\n",
              "11       Labels     19552985   12486.3120  ...   5546.2540   0.543545   1.936561\n",
              "12     Machines      6364668  189238.6310  ...   3384.7569   8.237792   1.181841\n",
              "13    Fasteners     12506063    3024.2800  ...    949.5182   0.131651   0.331539\n",
              "14     Supplies     10633558   46673.5380  ...  -1189.0995   2.031757  -0.415193\n",
              "15    Bookcases     12771539  114879.9963  ...  -3472.5560   5.000869  -1.212497\n",
              "16       Tables     18607828  206965.5320  ... -17725.4811   9.009466  -6.189129\n",
              "\n",
              "[17 rows x 8 columns]"
            ]
          },
          "metadata": {
            "tags": []
          },
          "execution_count": 11
        }
      ]
    },
    {
      "cell_type": "markdown",
      "metadata": {
        "id": "GE8eXdFrYXzz"
      },
      "source": [
        "## Let's visualize the data"
      ]
    },
    {
      "cell_type": "code",
      "metadata": {
        "colab": {
          "base_uri": "https://localhost:8080/",
          "height": 405
        },
        "id": "3c4iHrqm4Vz7",
        "outputId": "c138fcc2-ece3-4726-c08c-0f79c1ba8bb5"
      },
      "source": [
        "plt.subplots(figsize=(18,6))\n",
        "sns.barplot(x = \"Sub-Category\", y = \"Profit\", data=profit_by_subcategory)"
      ],
      "execution_count": null,
      "outputs": [
        {
          "output_type": "execute_result",
          "data": {
            "text/plain": [
              "<matplotlib.axes._subplots.AxesSubplot at 0x7f7e8af3ed50>"
            ]
          },
          "metadata": {
            "tags": []
          },
          "execution_count": 12
        },
        {
          "output_type": "display_data",
          "data": {
            "image/png": "[encoded data removed]",
            "text/plain": [
              "<Figure size 1296x432 with 1 Axes>"
            ]
          },
          "metadata": {
            "tags": [],
            "needs_background": "light"
          }
        }
      ]
    },
    {
      "cell_type": "markdown",
      "metadata": {
        "id": "o5chKN25YrWy"
      },
      "source": [
        "\n",
        "OK, Now we have the total sales and profit by different categories of products and their sub-categories, let’s now inspect the sales and profit by different Segments.\n"
      ]
    },
    {
      "cell_type": "markdown",
      "metadata": {
        "id": "Q_eR4fgQYvg_"
      },
      "source": [
        "## We have 3 types of Segments: Consumer, Corporate and Home Office."
      ]
    },
    {
      "cell_type": "code",
      "metadata": {
        "colab": {
          "base_uri": "https://localhost:8080/",
          "height": 142
        },
        "id": "SDVnAHH5HB-M",
        "outputId": "78e98ce4-76db-4324-b907-d7f1f8a09490"
      },
      "source": [
        "sales_by_segment=sales_data.groupby('Segment').sum().reset_index()\n",
        "sales_by_segment['Sales%']=(sales_by_segment.Sales/sales_by_category.Sales.sum())*100\n",
        "sales_by_segment['Profit%']=(sales_by_segment.Profit/sales_by_category.Profit.sum())*100\n",
        "sales_by_segment"
      ],
      "execution_count": null,
      "outputs": [
        {
          "output_type": "execute_result",
          "data": {
            "text/html": [
              "<div>\n",
              "<style scoped>\n",
              "    .dataframe tbody tr th:only-of-type {\n",
              "        vertical-align: middle;\n",
              "    }\n",
              "\n",
              "    .dataframe tbody tr th {\n",
              "        vertical-align: top;\n",
              "    }\n",
              "\n",
              "    .dataframe thead th {\n",
              "        text-align: right;\n",
              "    }\n",
              "</style>\n",
              "<table border=\"1\" class=\"dataframe\">\n",
              "  <thead>\n",
              "    <tr style=\"text-align: right;\">\n",
              "      <th></th>\n",
              "      <th>Segment</th>\n",
              "      <th>Postal Code</th>\n",
              "      <th>Sales</th>\n",
              "      <th>Quantity</th>\n",
              "      <th>Discount</th>\n",
              "      <th>Profit</th>\n",
              "      <th>Sales%</th>\n",
              "      <th>Profit%</th>\n",
              "    </tr>\n",
              "  </thead>\n",
              "  <tbody>\n",
              "    <tr>\n",
              "      <th>0</th>\n",
              "      <td>Consumer</td>\n",
              "      <td>288878609</td>\n",
              "      <td>1.161401e+06</td>\n",
              "      <td>19521</td>\n",
              "      <td>820.91</td>\n",
              "      <td>134119.2092</td>\n",
              "      <td>50.557240</td>\n",
              "      <td>46.829820</td>\n",
              "    </tr>\n",
              "    <tr>\n",
              "      <th>1</th>\n",
              "      <td>Corporate</td>\n",
              "      <td>164536330</td>\n",
              "      <td>7.061464e+05</td>\n",
              "      <td>11608</td>\n",
              "      <td>477.85</td>\n",
              "      <td>91979.1340</td>\n",
              "      <td>30.739426</td>\n",
              "      <td>32.115953</td>\n",
              "    </tr>\n",
              "    <tr>\n",
              "      <th>2</th>\n",
              "      <td>Home Office</td>\n",
              "      <td>98157713</td>\n",
              "      <td>4.296531e+05</td>\n",
              "      <td>6744</td>\n",
              "      <td>262.33</td>\n",
              "      <td>60298.6785</td>\n",
              "      <td>18.703334</td>\n",
              "      <td>21.054227</td>\n",
              "    </tr>\n",
              "  </tbody>\n",
              "</table>\n",
              "</div>"
            ],
            "text/plain": [
              "       Segment  Postal Code         Sales  ...       Profit     Sales%    Profit%\n",
              "0     Consumer    288878609  1.161401e+06  ...  134119.2092  50.557240  46.829820\n",
              "1    Corporate    164536330  7.061464e+05  ...   91979.1340  30.739426  32.115953\n",
              "2  Home Office     98157713  4.296531e+05  ...   60298.6785  18.703334  21.054227\n",
              "\n",
              "[3 rows x 8 columns]"
            ]
          },
          "metadata": {
            "tags": []
          },
          "execution_count": 13
        }
      ]
    },
    {
      "cell_type": "markdown",
      "metadata": {
        "id": "5aVRTvphYzIW"
      },
      "source": [
        "## Let's visualize the data"
      ]
    },
    {
      "cell_type": "code",
      "metadata": {
        "colab": {
          "base_uri": "https://localhost:8080/",
          "height": 367
        },
        "id": "NtEqH-D87k0x",
        "outputId": "ca98a26b-8f20-42f8-eda1-6a2299fb9ea8"
      },
      "source": [
        "fig=plt.figure(figsize=(18,5))\n",
        "ax1=fig.add_subplot(121)\n",
        "ax2=fig.add_subplot(122)\n",
        "sns.barplot(sales_by_segment.Segment,sales_by_segment.Sales,ax=ax1)\n",
        "ax1.set_title(\"Sales by segment\")\n",
        "sns.barplot(sales_by_segment.Segment,sales_by_segment.Profit,ax=ax2)\n",
        "ax2.set_title(\"Profit by segment\")"
      ],
      "execution_count": null,
      "outputs": [
        {
          "output_type": "execute_result",
          "data": {
            "text/plain": [
              "Text(0.5, 1.0, 'Profit by segment')"
            ]
          },
          "metadata": {
            "tags": []
          },
          "execution_count": 14
        },
        {
          "output_type": "display_data",
          "data": {
            "image/png": "[encoded data removed]",
            "text/plain": [
              "<Figure size 1296x360 with 2 Axes>"
            ]
          },
          "metadata": {
            "tags": [],
            "needs_background": "light"
          }
        }
      ]
    },
    {
      "cell_type": "markdown",
      "metadata": {
        "id": "rcyedLrKY6Cy"
      },
      "source": [
        "As you can see the Consumer segment has the most amount of Sales and Profit followed by Corporate and then Home Office."
      ]
    },
    {
      "cell_type": "markdown",
      "metadata": {
        "id": "xW-k3oggY87J"
      },
      "source": [
        "## Let’s now look at the sales and profit by Ship Mode:"
      ]
    },
    {
      "cell_type": "code",
      "metadata": {
        "colab": {
          "base_uri": "https://localhost:8080/",
          "height": 173
        },
        "id": "9fYJ_o4w-HDe",
        "outputId": "ab077bcc-c2fc-4d0b-e049-f6e98769e119"
      },
      "source": [
        "shipmode=sales_data.groupby('Ship Mode').sum().reset_index()\n",
        "shipmode['Sales%']=(shipmode.Sales/sales_by_category.Sales.sum())*100\n",
        "shipmode['Profit%']=(shipmode.Profit/sales_by_category.Profit.sum())*100\n",
        "shipmode"
      ],
      "execution_count": null,
      "outputs": [
        {
          "output_type": "execute_result",
          "data": {
            "text/html": [
              "<div>\n",
              "<style scoped>\n",
              "    .dataframe tbody tr th:only-of-type {\n",
              "        vertical-align: middle;\n",
              "    }\n",
              "\n",
              "    .dataframe tbody tr th {\n",
              "        vertical-align: top;\n",
              "    }\n",
              "\n",
              "    .dataframe thead th {\n",
              "        text-align: right;\n",
              "    }\n",
              "</style>\n",
              "<table border=\"1\" class=\"dataframe\">\n",
              "  <thead>\n",
              "    <tr style=\"text-align: right;\">\n",
              "      <th></th>\n",
              "      <th>Ship Mode</th>\n",
              "      <th>Postal Code</th>\n",
              "      <th>Sales</th>\n",
              "      <th>Quantity</th>\n",
              "      <th>Discount</th>\n",
              "      <th>Profit</th>\n",
              "      <th>Sales%</th>\n",
              "      <th>Profit%</th>\n",
              "    </tr>\n",
              "  </thead>\n",
              "  <tbody>\n",
              "    <tr>\n",
              "      <th>0</th>\n",
              "      <td>First Class</td>\n",
              "      <td>84229511</td>\n",
              "      <td>3.514284e+05</td>\n",
              "      <td>5693</td>\n",
              "      <td>253.17</td>\n",
              "      <td>48969.8399</td>\n",
              "      <td>15.298115</td>\n",
              "      <td>17.098586</td>\n",
              "    </tr>\n",
              "    <tr>\n",
              "      <th>1</th>\n",
              "      <td>Same Day</td>\n",
              "      <td>31242093</td>\n",
              "      <td>1.283631e+05</td>\n",
              "      <td>1960</td>\n",
              "      <td>82.75</td>\n",
              "      <td>15891.7589</td>\n",
              "      <td>5.587806</td>\n",
              "      <td>5.548856</td>\n",
              "    </tr>\n",
              "    <tr>\n",
              "      <th>2</th>\n",
              "      <td>Second Class</td>\n",
              "      <td>108192588</td>\n",
              "      <td>4.591936e+05</td>\n",
              "      <td>7423</td>\n",
              "      <td>270.15</td>\n",
              "      <td>57446.6354</td>\n",
              "      <td>19.989265</td>\n",
              "      <td>20.058391</td>\n",
              "    </tr>\n",
              "    <tr>\n",
              "      <th>3</th>\n",
              "      <td>Standard Class</td>\n",
              "      <td>327908460</td>\n",
              "      <td>1.358216e+06</td>\n",
              "      <td>22797</td>\n",
              "      <td>955.02</td>\n",
              "      <td>164088.7875</td>\n",
              "      <td>59.124814</td>\n",
              "      <td>57.294167</td>\n",
              "    </tr>\n",
              "  </tbody>\n",
              "</table>\n",
              "</div>"
            ],
            "text/plain": [
              "        Ship Mode  Postal Code         Sales  ...       Profit     Sales%    Profit%\n",
              "0     First Class     84229511  3.514284e+05  ...   48969.8399  15.298115  17.098586\n",
              "1        Same Day     31242093  1.283631e+05  ...   15891.7589   5.587806   5.548856\n",
              "2    Second Class    108192588  4.591936e+05  ...   57446.6354  19.989265  20.058391\n",
              "3  Standard Class    327908460  1.358216e+06  ...  164088.7875  59.124814  57.294167\n",
              "\n",
              "[4 rows x 8 columns]"
            ]
          },
          "metadata": {
            "tags": []
          },
          "execution_count": 15
        }
      ]
    },
    {
      "cell_type": "markdown",
      "metadata": {
        "id": "HfLac-weY_th"
      },
      "source": [
        "## Let's now visualize the data"
      ]
    },
    {
      "cell_type": "code",
      "metadata": {
        "colab": {
          "base_uri": "https://localhost:8080/",
          "height": 367
        },
        "id": "6nAUtkOUATr0",
        "outputId": "4f477816-4e6f-41ec-ebd8-4fbf81c0eb37"
      },
      "source": [
        "fig=plt.figure(figsize=(18,5))\n",
        "ax1=fig.add_subplot(121)\n",
        "ax2=fig.add_subplot(122)\n",
        "sns.barplot(shipmode['Ship Mode'],shipmode.Sales,ax=ax1)\n",
        "ax1.set_title(\"Sales by Ship Mode\")\n",
        "sns.barplot(shipmode['Ship Mode'],shipmode.Profit,ax=ax2)\n",
        "ax2.set_title(\"Profit by Ship Mode\")\n",
        "\n",
        "sns.barplot(shipmode['Ship Mode'],shipmode.Profit)"
      ],
      "execution_count": null,
      "outputs": [
        {
          "output_type": "execute_result",
          "data": {
            "text/plain": [
              "<matplotlib.axes._subplots.AxesSubplot at 0x7f7e8aee7950>"
            ]
          },
          "metadata": {
            "tags": []
          },
          "execution_count": 16
        },
        {
          "output_type": "display_data",
          "data": {
            "image/png": "[encoded data removed]",
            "text/plain": [
              "<Figure size 1296x360 with 2 Axes>"
            ]
          },
          "metadata": {
            "tags": [],
            "needs_background": "light"
          }
        }
      ]
    },
    {
      "cell_type": "markdown",
      "metadata": {
        "id": "lc_V_eHCZL05"
      },
      "source": [
        "Looking at the graph we can say that, sales and profit generated by the different shipping modes are identical. "
      ]
    },
    {
      "cell_type": "markdown",
      "metadata": {
        "id": "p3Ty0PzqZS7y"
      },
      "source": [
        "OK, This ends our Exploratory Data Analysis phase."
      ]
    },
    {
      "cell_type": "markdown",
      "metadata": {
        "id": "eN6VBXojZpuG"
      },
      "source": [
        "## Key Findings and Insights\n",
        "\n",
        "Looking at the analysis we can say that the Furniture category has a striking low profit margin as compared to the other two categories, even though the Furniture category has more sales than Office Supplies category it’s profit margin is way too low that of Office Supplies. Further analysis on the sub-categories shows us that the Tables and Bookcases have negative profit sales which are under the Furniture category.\n",
        "\n",
        "We will further investigate to try to determine the root cause for declining profit margin of the Furniture category, predominately focusing on its sub-category Tables and Bookcases.\n"
      ]
    },
    {
      "cell_type": "markdown",
      "metadata": {
        "id": "C1sgGfYRZ1KN"
      },
      "source": [
        "## Hypothesis Testing\n",
        "The Tables sub-category is at rank no 4 in total sales generated by sub-categories yet it has the lowest profit and same with the Bookcases, it has moderate sales but negative profit sales.\n",
        "To estimate the cause of the declining profit of the Tables and Bookcases, we will be assuming the following hypothesis:\n",
        "\n",
        "Null hypothesis (Ho) : The cause of declining profit of Tables and Bookcases has nothing to do with                   \tthe types of Ship modes or types of Segments or the City where it is shipped.\n",
        "\n",
        "Alternative hypothesis(H1) : The declining profit of Tables and Bookcases has some impact from the type of \n",
        "         Ship modes or types of Segments or the City where it is shipped.\n"
      ]
    },
    {
      "cell_type": "markdown",
      "metadata": {
        "id": "Ye_p2LnsaNHB"
      },
      "source": [
        "Let’s now look for some evidence to reject the null hypothesis (Ho) in the favour of the alternative hypothesis (H1) that there is an impact on the declining profit of Tables and Bookcases due to the above mentioned reasons."
      ]
    },
    {
      "cell_type": "markdown",
      "metadata": {
        "id": "RFxHRX8JaR_j"
      },
      "source": [
        "## First we will seperate the Furniture Category."
      ]
    },
    {
      "cell_type": "code",
      "metadata": {
        "colab": {
          "base_uri": "https://localhost:8080/",
          "height": 204
        },
        "id": "mwlhc2hjEV6y",
        "outputId": "971900eb-cf1f-44f9-d28c-8a5a4d82f0c6"
      },
      "source": [
        "Furnitures=sales_data.loc[sales_data['Category']==\"Furniture\",:].reset_index(drop=True)\n",
        "Furnitures.head()"
      ],
      "execution_count": null,
      "outputs": [
        {
          "output_type": "execute_result",
          "data": {
            "text/html": [
              "<div>\n",
              "<style scoped>\n",
              "    .dataframe tbody tr th:only-of-type {\n",
              "        vertical-align: middle;\n",
              "    }\n",
              "\n",
              "    .dataframe tbody tr th {\n",
              "        vertical-align: top;\n",
              "    }\n",
              "\n",
              "    .dataframe thead th {\n",
              "        text-align: right;\n",
              "    }\n",
              "</style>\n",
              "<table border=\"1\" class=\"dataframe\">\n",
              "  <thead>\n",
              "    <tr style=\"text-align: right;\">\n",
              "      <th></th>\n",
              "      <th>Ship Mode</th>\n",
              "      <th>Segment</th>\n",
              "      <th>Country</th>\n",
              "      <th>City</th>\n",
              "      <th>State</th>\n",
              "      <th>Postal Code</th>\n",
              "      <th>Region</th>\n",
              "      <th>Category</th>\n",
              "      <th>Sub-Category</th>\n",
              "      <th>Sales</th>\n",
              "      <th>Quantity</th>\n",
              "      <th>Discount</th>\n",
              "      <th>Profit</th>\n",
              "    </tr>\n",
              "  </thead>\n",
              "  <tbody>\n",
              "    <tr>\n",
              "      <th>0</th>\n",
              "      <td>Second Class</td>\n",
              "      <td>Consumer</td>\n",
              "      <td>United States</td>\n",
              "      <td>Henderson</td>\n",
              "      <td>Kentucky</td>\n",
              "      <td>42420</td>\n",
              "      <td>South</td>\n",
              "      <td>Furniture</td>\n",
              "      <td>Bookcases</td>\n",
              "      <td>261.9600</td>\n",
              "      <td>2</td>\n",
              "      <td>0.00</td>\n",
              "      <td>41.9136</td>\n",
              "    </tr>\n",
              "    <tr>\n",
              "      <th>1</th>\n",
              "      <td>Second Class</td>\n",
              "      <td>Consumer</td>\n",
              "      <td>United States</td>\n",
              "      <td>Henderson</td>\n",
              "      <td>Kentucky</td>\n",
              "      <td>42420</td>\n",
              "      <td>South</td>\n",
              "      <td>Furniture</td>\n",
              "      <td>Chairs</td>\n",
              "      <td>731.9400</td>\n",
              "      <td>3</td>\n",
              "      <td>0.00</td>\n",
              "      <td>219.5820</td>\n",
              "    </tr>\n",
              "    <tr>\n",
              "      <th>2</th>\n",
              "      <td>Standard Class</td>\n",
              "      <td>Consumer</td>\n",
              "      <td>United States</td>\n",
              "      <td>Fort Lauderdale</td>\n",
              "      <td>Florida</td>\n",
              "      <td>33311</td>\n",
              "      <td>South</td>\n",
              "      <td>Furniture</td>\n",
              "      <td>Tables</td>\n",
              "      <td>957.5775</td>\n",
              "      <td>5</td>\n",
              "      <td>0.45</td>\n",
              "      <td>-383.0310</td>\n",
              "    </tr>\n",
              "    <tr>\n",
              "      <th>3</th>\n",
              "      <td>Standard Class</td>\n",
              "      <td>Consumer</td>\n",
              "      <td>United States</td>\n",
              "      <td>Los Angeles</td>\n",
              "      <td>California</td>\n",
              "      <td>90032</td>\n",
              "      <td>West</td>\n",
              "      <td>Furniture</td>\n",
              "      <td>Furnishings</td>\n",
              "      <td>48.8600</td>\n",
              "      <td>7</td>\n",
              "      <td>0.00</td>\n",
              "      <td>14.1694</td>\n",
              "    </tr>\n",
              "    <tr>\n",
              "      <th>4</th>\n",
              "      <td>Standard Class</td>\n",
              "      <td>Consumer</td>\n",
              "      <td>United States</td>\n",
              "      <td>Los Angeles</td>\n",
              "      <td>California</td>\n",
              "      <td>90032</td>\n",
              "      <td>West</td>\n",
              "      <td>Furniture</td>\n",
              "      <td>Tables</td>\n",
              "      <td>1706.1840</td>\n",
              "      <td>9</td>\n",
              "      <td>0.20</td>\n",
              "      <td>85.3092</td>\n",
              "    </tr>\n",
              "  </tbody>\n",
              "</table>\n",
              "</div>"
            ],
            "text/plain": [
              "        Ship Mode   Segment        Country  ... Quantity Discount    Profit\n",
              "0    Second Class  Consumer  United States  ...        2     0.00   41.9136\n",
              "1    Second Class  Consumer  United States  ...        3     0.00  219.5820\n",
              "2  Standard Class  Consumer  United States  ...        5     0.45 -383.0310\n",
              "3  Standard Class  Consumer  United States  ...        7     0.00   14.1694\n",
              "4  Standard Class  Consumer  United States  ...        9     0.20   85.3092\n",
              "\n",
              "[5 rows x 13 columns]"
            ]
          },
          "metadata": {
            "tags": []
          },
          "execution_count": 17
        }
      ]
    },
    {
      "cell_type": "markdown",
      "metadata": {
        "id": "JiAWoxdhajxt"
      },
      "source": [
        "### As we are only interested in data related to Tables and Bookcases, filter the data only with Tables and Bookcases."
      ]
    },
    {
      "cell_type": "code",
      "metadata": {
        "colab": {
          "base_uri": "https://localhost:8080/",
          "height": 359
        },
        "id": "FSsqQMn2EBC0",
        "outputId": "3686e011-5db5-415e-c5b8-732c3a78498e"
      },
      "source": [
        "tables_bookcases=Furnitures[(Furnitures['Sub-Category'] == 'Tables') | (Furnitures['Sub-Category'] == 'Bookcases')].reset_index(drop=True)\n",
        "tables_bookcases.head(10)"
      ],
      "execution_count": null,
      "outputs": [
        {
          "output_type": "execute_result",
          "data": {
            "text/html": [
              "<div>\n",
              "<style scoped>\n",
              "    .dataframe tbody tr th:only-of-type {\n",
              "        vertical-align: middle;\n",
              "    }\n",
              "\n",
              "    .dataframe tbody tr th {\n",
              "        vertical-align: top;\n",
              "    }\n",
              "\n",
              "    .dataframe thead th {\n",
              "        text-align: right;\n",
              "    }\n",
              "</style>\n",
              "<table border=\"1\" class=\"dataframe\">\n",
              "  <thead>\n",
              "    <tr style=\"text-align: right;\">\n",
              "      <th></th>\n",
              "      <th>Ship Mode</th>\n",
              "      <th>Segment</th>\n",
              "      <th>Country</th>\n",
              "      <th>City</th>\n",
              "      <th>State</th>\n",
              "      <th>Postal Code</th>\n",
              "      <th>Region</th>\n",
              "      <th>Category</th>\n",
              "      <th>Sub-Category</th>\n",
              "      <th>Sales</th>\n",
              "      <th>Quantity</th>\n",
              "      <th>Discount</th>\n",
              "      <th>Profit</th>\n",
              "    </tr>\n",
              "  </thead>\n",
              "  <tbody>\n",
              "    <tr>\n",
              "      <th>0</th>\n",
              "      <td>Second Class</td>\n",
              "      <td>Consumer</td>\n",
              "      <td>United States</td>\n",
              "      <td>Henderson</td>\n",
              "      <td>Kentucky</td>\n",
              "      <td>42420</td>\n",
              "      <td>South</td>\n",
              "      <td>Furniture</td>\n",
              "      <td>Bookcases</td>\n",
              "      <td>261.9600</td>\n",
              "      <td>2</td>\n",
              "      <td>0.00</td>\n",
              "      <td>41.9136</td>\n",
              "    </tr>\n",
              "    <tr>\n",
              "      <th>1</th>\n",
              "      <td>Standard Class</td>\n",
              "      <td>Consumer</td>\n",
              "      <td>United States</td>\n",
              "      <td>Fort Lauderdale</td>\n",
              "      <td>Florida</td>\n",
              "      <td>33311</td>\n",
              "      <td>South</td>\n",
              "      <td>Furniture</td>\n",
              "      <td>Tables</td>\n",
              "      <td>957.5775</td>\n",
              "      <td>5</td>\n",
              "      <td>0.45</td>\n",
              "      <td>-383.0310</td>\n",
              "    </tr>\n",
              "    <tr>\n",
              "      <th>2</th>\n",
              "      <td>Standard Class</td>\n",
              "      <td>Consumer</td>\n",
              "      <td>United States</td>\n",
              "      <td>Los Angeles</td>\n",
              "      <td>California</td>\n",
              "      <td>90032</td>\n",
              "      <td>West</td>\n",
              "      <td>Furniture</td>\n",
              "      <td>Tables</td>\n",
              "      <td>1706.1840</td>\n",
              "      <td>9</td>\n",
              "      <td>0.20</td>\n",
              "      <td>85.3092</td>\n",
              "    </tr>\n",
              "    <tr>\n",
              "      <th>3</th>\n",
              "      <td>Standard Class</td>\n",
              "      <td>Consumer</td>\n",
              "      <td>United States</td>\n",
              "      <td>Orem</td>\n",
              "      <td>Utah</td>\n",
              "      <td>84057</td>\n",
              "      <td>West</td>\n",
              "      <td>Furniture</td>\n",
              "      <td>Tables</td>\n",
              "      <td>1044.6300</td>\n",
              "      <td>3</td>\n",
              "      <td>0.00</td>\n",
              "      <td>240.2649</td>\n",
              "    </tr>\n",
              "    <tr>\n",
              "      <th>4</th>\n",
              "      <td>Standard Class</td>\n",
              "      <td>Consumer</td>\n",
              "      <td>United States</td>\n",
              "      <td>Philadelphia</td>\n",
              "      <td>Pennsylvania</td>\n",
              "      <td>19140</td>\n",
              "      <td>East</td>\n",
              "      <td>Furniture</td>\n",
              "      <td>Bookcases</td>\n",
              "      <td>3083.4300</td>\n",
              "      <td>7</td>\n",
              "      <td>0.50</td>\n",
              "      <td>-1665.0522</td>\n",
              "    </tr>\n",
              "    <tr>\n",
              "      <th>5</th>\n",
              "      <td>Standard Class</td>\n",
              "      <td>Home Office</td>\n",
              "      <td>United States</td>\n",
              "      <td>Houston</td>\n",
              "      <td>Texas</td>\n",
              "      <td>77041</td>\n",
              "      <td>Central</td>\n",
              "      <td>Furniture</td>\n",
              "      <td>Bookcases</td>\n",
              "      <td>532.3992</td>\n",
              "      <td>3</td>\n",
              "      <td>0.32</td>\n",
              "      <td>-46.9764</td>\n",
              "    </tr>\n",
              "    <tr>\n",
              "      <th>6</th>\n",
              "      <td>Standard Class</td>\n",
              "      <td>Consumer</td>\n",
              "      <td>United States</td>\n",
              "      <td>Seattle</td>\n",
              "      <td>Washington</td>\n",
              "      <td>98103</td>\n",
              "      <td>West</td>\n",
              "      <td>Furniture</td>\n",
              "      <td>Tables</td>\n",
              "      <td>787.5300</td>\n",
              "      <td>3</td>\n",
              "      <td>0.00</td>\n",
              "      <td>165.3813</td>\n",
              "    </tr>\n",
              "    <tr>\n",
              "      <th>7</th>\n",
              "      <td>Standard Class</td>\n",
              "      <td>Consumer</td>\n",
              "      <td>United States</td>\n",
              "      <td>Bloomington</td>\n",
              "      <td>Illinois</td>\n",
              "      <td>61701</td>\n",
              "      <td>Central</td>\n",
              "      <td>Furniture</td>\n",
              "      <td>Tables</td>\n",
              "      <td>617.7000</td>\n",
              "      <td>6</td>\n",
              "      <td>0.50</td>\n",
              "      <td>-407.6820</td>\n",
              "    </tr>\n",
              "    <tr>\n",
              "      <th>8</th>\n",
              "      <td>First Class</td>\n",
              "      <td>Home Office</td>\n",
              "      <td>United States</td>\n",
              "      <td>New York City</td>\n",
              "      <td>New York</td>\n",
              "      <td>10035</td>\n",
              "      <td>East</td>\n",
              "      <td>Furniture</td>\n",
              "      <td>Bookcases</td>\n",
              "      <td>899.1360</td>\n",
              "      <td>4</td>\n",
              "      <td>0.20</td>\n",
              "      <td>112.3920</td>\n",
              "    </tr>\n",
              "    <tr>\n",
              "      <th>9</th>\n",
              "      <td>First Class</td>\n",
              "      <td>Home Office</td>\n",
              "      <td>United States</td>\n",
              "      <td>New York City</td>\n",
              "      <td>New York</td>\n",
              "      <td>10035</td>\n",
              "      <td>East</td>\n",
              "      <td>Furniture</td>\n",
              "      <td>Bookcases</td>\n",
              "      <td>626.3520</td>\n",
              "      <td>3</td>\n",
              "      <td>0.20</td>\n",
              "      <td>46.9764</td>\n",
              "    </tr>\n",
              "  </tbody>\n",
              "</table>\n",
              "</div>"
            ],
            "text/plain": [
              "        Ship Mode      Segment        Country  ... Quantity Discount     Profit\n",
              "0    Second Class     Consumer  United States  ...        2     0.00    41.9136\n",
              "1  Standard Class     Consumer  United States  ...        5     0.45  -383.0310\n",
              "2  Standard Class     Consumer  United States  ...        9     0.20    85.3092\n",
              "3  Standard Class     Consumer  United States  ...        3     0.00   240.2649\n",
              "4  Standard Class     Consumer  United States  ...        7     0.50 -1665.0522\n",
              "5  Standard Class  Home Office  United States  ...        3     0.32   -46.9764\n",
              "6  Standard Class     Consumer  United States  ...        3     0.00   165.3813\n",
              "7  Standard Class     Consumer  United States  ...        6     0.50  -407.6820\n",
              "8     First Class  Home Office  United States  ...        4     0.20   112.3920\n",
              "9     First Class  Home Office  United States  ...        3     0.20    46.9764\n",
              "\n",
              "[10 rows x 13 columns]"
            ]
          },
          "metadata": {
            "tags": []
          },
          "execution_count": 18
        }
      ]
    },
    {
      "cell_type": "markdown",
      "metadata": {
        "id": "1F_ijYGsax2p"
      },
      "source": [
        "## Lets count the number of sales by both sub-categories."
      ]
    },
    {
      "cell_type": "code",
      "metadata": {
        "colab": {
          "base_uri": "https://localhost:8080/"
        },
        "id": "_smaBK4chK_o",
        "outputId": "adda66d4-0420-44b5-9b7c-f1913f257bbf"
      },
      "source": [
        "tables_bookcases['Sub-Category'].value_counts()"
      ],
      "execution_count": null,
      "outputs": [
        {
          "output_type": "execute_result",
          "data": {
            "text/plain": [
              "Tables       319\n",
              "Bookcases    228\n",
              "Name: Sub-Category, dtype: int64"
            ]
          },
          "metadata": {
            "tags": []
          },
          "execution_count": 19
        }
      ]
    },
    {
      "cell_type": "markdown",
      "metadata": {
        "id": "behTwV5lbD3V"
      },
      "source": [
        "### Now we will only work with the units which have negative profit sales. "
      ]
    },
    {
      "cell_type": "code",
      "metadata": {
        "colab": {
          "base_uri": "https://localhost:8080/",
          "height": 359
        },
        "id": "SmtApFY0ZRe-",
        "outputId": "bf0ba4ec-1748-49b7-d381-7af139a0d5de"
      },
      "source": [
        "Negative_profits=tables_bookcases.loc[tables_bookcases.Profit <= 0].reset_index(drop=True)\n",
        "Negative_profits.head(10)"
      ],
      "execution_count": null,
      "outputs": [
        {
          "output_type": "execute_result",
          "data": {
            "text/html": [
              "<div>\n",
              "<style scoped>\n",
              "    .dataframe tbody tr th:only-of-type {\n",
              "        vertical-align: middle;\n",
              "    }\n",
              "\n",
              "    .dataframe tbody tr th {\n",
              "        vertical-align: top;\n",
              "    }\n",
              "\n",
              "    .dataframe thead th {\n",
              "        text-align: right;\n",
              "    }\n",
              "</style>\n",
              "<table border=\"1\" class=\"dataframe\">\n",
              "  <thead>\n",
              "    <tr style=\"text-align: right;\">\n",
              "      <th></th>\n",
              "      <th>Ship Mode</th>\n",
              "      <th>Segment</th>\n",
              "      <th>Country</th>\n",
              "      <th>City</th>\n",
              "      <th>State</th>\n",
              "      <th>Postal Code</th>\n",
              "      <th>Region</th>\n",
              "      <th>Category</th>\n",
              "      <th>Sub-Category</th>\n",
              "      <th>Sales</th>\n",
              "      <th>Quantity</th>\n",
              "      <th>Discount</th>\n",
              "      <th>Profit</th>\n",
              "    </tr>\n",
              "  </thead>\n",
              "  <tbody>\n",
              "    <tr>\n",
              "      <th>0</th>\n",
              "      <td>Standard Class</td>\n",
              "      <td>Consumer</td>\n",
              "      <td>United States</td>\n",
              "      <td>Fort Lauderdale</td>\n",
              "      <td>Florida</td>\n",
              "      <td>33311</td>\n",
              "      <td>South</td>\n",
              "      <td>Furniture</td>\n",
              "      <td>Tables</td>\n",
              "      <td>957.5775</td>\n",
              "      <td>5</td>\n",
              "      <td>0.45</td>\n",
              "      <td>-383.0310</td>\n",
              "    </tr>\n",
              "    <tr>\n",
              "      <th>1</th>\n",
              "      <td>Standard Class</td>\n",
              "      <td>Consumer</td>\n",
              "      <td>United States</td>\n",
              "      <td>Philadelphia</td>\n",
              "      <td>Pennsylvania</td>\n",
              "      <td>19140</td>\n",
              "      <td>East</td>\n",
              "      <td>Furniture</td>\n",
              "      <td>Bookcases</td>\n",
              "      <td>3083.4300</td>\n",
              "      <td>7</td>\n",
              "      <td>0.50</td>\n",
              "      <td>-1665.0522</td>\n",
              "    </tr>\n",
              "    <tr>\n",
              "      <th>2</th>\n",
              "      <td>Standard Class</td>\n",
              "      <td>Home Office</td>\n",
              "      <td>United States</td>\n",
              "      <td>Houston</td>\n",
              "      <td>Texas</td>\n",
              "      <td>77041</td>\n",
              "      <td>Central</td>\n",
              "      <td>Furniture</td>\n",
              "      <td>Bookcases</td>\n",
              "      <td>532.3992</td>\n",
              "      <td>3</td>\n",
              "      <td>0.32</td>\n",
              "      <td>-46.9764</td>\n",
              "    </tr>\n",
              "    <tr>\n",
              "      <th>3</th>\n",
              "      <td>Standard Class</td>\n",
              "      <td>Consumer</td>\n",
              "      <td>United States</td>\n",
              "      <td>Bloomington</td>\n",
              "      <td>Illinois</td>\n",
              "      <td>61701</td>\n",
              "      <td>Central</td>\n",
              "      <td>Furniture</td>\n",
              "      <td>Tables</td>\n",
              "      <td>617.7000</td>\n",
              "      <td>6</td>\n",
              "      <td>0.50</td>\n",
              "      <td>-407.6820</td>\n",
              "    </tr>\n",
              "    <tr>\n",
              "      <th>4</th>\n",
              "      <td>First Class</td>\n",
              "      <td>Consumer</td>\n",
              "      <td>United States</td>\n",
              "      <td>Denver</td>\n",
              "      <td>Colorado</td>\n",
              "      <td>80219</td>\n",
              "      <td>West</td>\n",
              "      <td>Furniture</td>\n",
              "      <td>Tables</td>\n",
              "      <td>218.7500</td>\n",
              "      <td>2</td>\n",
              "      <td>0.50</td>\n",
              "      <td>-161.8750</td>\n",
              "    </tr>\n",
              "    <tr>\n",
              "      <th>5</th>\n",
              "      <td>Standard Class</td>\n",
              "      <td>Corporate</td>\n",
              "      <td>United States</td>\n",
              "      <td>Medina</td>\n",
              "      <td>Ohio</td>\n",
              "      <td>44256</td>\n",
              "      <td>East</td>\n",
              "      <td>Furniture</td>\n",
              "      <td>Bookcases</td>\n",
              "      <td>452.4500</td>\n",
              "      <td>5</td>\n",
              "      <td>0.50</td>\n",
              "      <td>-244.3230</td>\n",
              "    </tr>\n",
              "    <tr>\n",
              "      <th>6</th>\n",
              "      <td>Standard Class</td>\n",
              "      <td>Home Office</td>\n",
              "      <td>United States</td>\n",
              "      <td>Tampa</td>\n",
              "      <td>Florida</td>\n",
              "      <td>33614</td>\n",
              "      <td>South</td>\n",
              "      <td>Furniture</td>\n",
              "      <td>Tables</td>\n",
              "      <td>233.8600</td>\n",
              "      <td>2</td>\n",
              "      <td>0.45</td>\n",
              "      <td>-102.0480</td>\n",
              "    </tr>\n",
              "    <tr>\n",
              "      <th>7</th>\n",
              "      <td>Standard Class</td>\n",
              "      <td>Home Office</td>\n",
              "      <td>United States</td>\n",
              "      <td>Tampa</td>\n",
              "      <td>Florida</td>\n",
              "      <td>33614</td>\n",
              "      <td>South</td>\n",
              "      <td>Furniture</td>\n",
              "      <td>Tables</td>\n",
              "      <td>620.6145</td>\n",
              "      <td>3</td>\n",
              "      <td>0.45</td>\n",
              "      <td>-248.2458</td>\n",
              "    </tr>\n",
              "    <tr>\n",
              "      <th>8</th>\n",
              "      <td>Second Class</td>\n",
              "      <td>Consumer</td>\n",
              "      <td>United States</td>\n",
              "      <td>Chicago</td>\n",
              "      <td>Illinois</td>\n",
              "      <td>60610</td>\n",
              "      <td>Central</td>\n",
              "      <td>Furniture</td>\n",
              "      <td>Tables</td>\n",
              "      <td>177.2250</td>\n",
              "      <td>5</td>\n",
              "      <td>0.50</td>\n",
              "      <td>-120.5130</td>\n",
              "    </tr>\n",
              "    <tr>\n",
              "      <th>9</th>\n",
              "      <td>Second Class</td>\n",
              "      <td>Home Office</td>\n",
              "      <td>United States</td>\n",
              "      <td>Columbus</td>\n",
              "      <td>Ohio</td>\n",
              "      <td>43229</td>\n",
              "      <td>East</td>\n",
              "      <td>Furniture</td>\n",
              "      <td>Bookcases</td>\n",
              "      <td>86.9700</td>\n",
              "      <td>3</td>\n",
              "      <td>0.50</td>\n",
              "      <td>-48.7032</td>\n",
              "    </tr>\n",
              "  </tbody>\n",
              "</table>\n",
              "</div>"
            ],
            "text/plain": [
              "        Ship Mode      Segment        Country  ... Quantity Discount     Profit\n",
              "0  Standard Class     Consumer  United States  ...        5     0.45  -383.0310\n",
              "1  Standard Class     Consumer  United States  ...        7     0.50 -1665.0522\n",
              "2  Standard Class  Home Office  United States  ...        3     0.32   -46.9764\n",
              "3  Standard Class     Consumer  United States  ...        6     0.50  -407.6820\n",
              "4     First Class     Consumer  United States  ...        2     0.50  -161.8750\n",
              "5  Standard Class    Corporate  United States  ...        5     0.50  -244.3230\n",
              "6  Standard Class  Home Office  United States  ...        2     0.45  -102.0480\n",
              "7  Standard Class  Home Office  United States  ...        3     0.45  -248.2458\n",
              "8    Second Class     Consumer  United States  ...        5     0.50  -120.5130\n",
              "9    Second Class  Home Office  United States  ...        3     0.50   -48.7032\n",
              "\n",
              "[10 rows x 13 columns]"
            ]
          },
          "metadata": {
            "tags": []
          },
          "execution_count": 20
        }
      ]
    },
    {
      "cell_type": "markdown",
      "metadata": {
        "id": "TDFneR1kbZBs"
      },
      "source": [
        "### Let's counts of sales which are negative."
      ]
    },
    {
      "cell_type": "code",
      "metadata": {
        "colab": {
          "base_uri": "https://localhost:8080/"
        },
        "id": "xGLQQiyVhnl3",
        "outputId": "802d9765-1608-48f9-f333-17c4dd16054c"
      },
      "source": [
        "Negative_profits[\"Sub-Category\"].value_counts()"
      ],
      "execution_count": null,
      "outputs": [
        {
          "output_type": "execute_result",
          "data": {
            "text/plain": [
              "Tables       205\n",
              "Bookcases    111\n",
              "Name: Sub-Category, dtype: int64"
            ]
          },
          "metadata": {
            "tags": []
          },
          "execution_count": 21
        }
      ]
    },
    {
      "cell_type": "markdown",
      "metadata": {
        "id": "bX06_p4PbeeM"
      },
      "source": [
        "The Tables have a total sales of 319 units out of which 205 units have negative profit.\n",
        "\n",
        "The Bookcases have a total sales of 228 units out of which 111 units have negative profit.\n"
      ]
    },
    {
      "cell_type": "markdown",
      "metadata": {
        "id": "Nt96AS5-bjcR"
      },
      "source": [
        "## Let’s check the top cities with most negative profit sales."
      ]
    },
    {
      "cell_type": "code",
      "metadata": {
        "colab": {
          "base_uri": "https://localhost:8080/",
          "height": 359
        },
        "id": "62_A2PlRRJ6h",
        "outputId": "80a8a7fe-7f0c-48ad-cd2e-137da7fd0b5a"
      },
      "source": [
        "by_city=Negative_profits.groupby('City').sum().sort_values(by='Profit').reset_index()\n",
        "by_city.head(10)"
      ],
      "execution_count": null,
      "outputs": [
        {
          "output_type": "execute_result",
          "data": {
            "text/html": [
              "<div>\n",
              "<style scoped>\n",
              "    .dataframe tbody tr th:only-of-type {\n",
              "        vertical-align: middle;\n",
              "    }\n",
              "\n",
              "    .dataframe tbody tr th {\n",
              "        vertical-align: top;\n",
              "    }\n",
              "\n",
              "    .dataframe thead th {\n",
              "        text-align: right;\n",
              "    }\n",
              "</style>\n",
              "<table border=\"1\" class=\"dataframe\">\n",
              "  <thead>\n",
              "    <tr style=\"text-align: right;\">\n",
              "      <th></th>\n",
              "      <th>City</th>\n",
              "      <th>Postal Code</th>\n",
              "      <th>Sales</th>\n",
              "      <th>Quantity</th>\n",
              "      <th>Discount</th>\n",
              "      <th>Profit</th>\n",
              "    </tr>\n",
              "  </thead>\n",
              "  <tbody>\n",
              "    <tr>\n",
              "      <th>0</th>\n",
              "      <td>Philadelphia</td>\n",
              "      <td>440077</td>\n",
              "      <td>12583.5310</td>\n",
              "      <td>100</td>\n",
              "      <td>10.00</td>\n",
              "      <td>-5156.8951</td>\n",
              "    </tr>\n",
              "    <tr>\n",
              "      <th>1</th>\n",
              "      <td>New York City</td>\n",
              "      <td>360723</td>\n",
              "      <td>18027.4540</td>\n",
              "      <td>118</td>\n",
              "      <td>11.80</td>\n",
              "      <td>-3936.7482</td>\n",
              "    </tr>\n",
              "    <tr>\n",
              "      <th>2</th>\n",
              "      <td>Aurora</td>\n",
              "      <td>462551</td>\n",
              "      <td>2727.0440</td>\n",
              "      <td>30</td>\n",
              "      <td>3.70</td>\n",
              "      <td>-1969.2214</td>\n",
              "    </tr>\n",
              "    <tr>\n",
              "      <th>3</th>\n",
              "      <td>Concord</td>\n",
              "      <td>28027</td>\n",
              "      <td>4297.6440</td>\n",
              "      <td>13</td>\n",
              "      <td>0.40</td>\n",
              "      <td>-1862.3124</td>\n",
              "    </tr>\n",
              "    <tr>\n",
              "      <th>4</th>\n",
              "      <td>Phoenix</td>\n",
              "      <td>425115</td>\n",
              "      <td>2712.8190</td>\n",
              "      <td>22</td>\n",
              "      <td>2.70</td>\n",
              "      <td>-1848.8919</td>\n",
              "    </tr>\n",
              "    <tr>\n",
              "      <th>5</th>\n",
              "      <td>Chicago</td>\n",
              "      <td>848790</td>\n",
              "      <td>4405.1650</td>\n",
              "      <td>52</td>\n",
              "      <td>5.80</td>\n",
              "      <td>-1757.9257</td>\n",
              "    </tr>\n",
              "    <tr>\n",
              "      <th>6</th>\n",
              "      <td>Houston</td>\n",
              "      <td>1618074</td>\n",
              "      <td>12588.7554</td>\n",
              "      <td>87</td>\n",
              "      <td>6.54</td>\n",
              "      <td>-1745.4529</td>\n",
              "    </tr>\n",
              "    <tr>\n",
              "      <th>7</th>\n",
              "      <td>Springfield</td>\n",
              "      <td>578391</td>\n",
              "      <td>2038.1000</td>\n",
              "      <td>22</td>\n",
              "      <td>3.80</td>\n",
              "      <td>-1488.3651</td>\n",
              "    </tr>\n",
              "    <tr>\n",
              "      <th>8</th>\n",
              "      <td>Jacksonville</td>\n",
              "      <td>157404</td>\n",
              "      <td>3139.0670</td>\n",
              "      <td>24</td>\n",
              "      <td>1.95</td>\n",
              "      <td>-1352.4994</td>\n",
              "    </tr>\n",
              "    <tr>\n",
              "      <th>9</th>\n",
              "      <td>Colorado Springs</td>\n",
              "      <td>242718</td>\n",
              "      <td>1024.5840</td>\n",
              "      <td>16</td>\n",
              "      <td>1.90</td>\n",
              "      <td>-1178.7004</td>\n",
              "    </tr>\n",
              "  </tbody>\n",
              "</table>\n",
              "</div>"
            ],
            "text/plain": [
              "               City  Postal Code       Sales  Quantity  Discount     Profit\n",
              "0      Philadelphia       440077  12583.5310       100     10.00 -5156.8951\n",
              "1     New York City       360723  18027.4540       118     11.80 -3936.7482\n",
              "2            Aurora       462551   2727.0440        30      3.70 -1969.2214\n",
              "3           Concord        28027   4297.6440        13      0.40 -1862.3124\n",
              "4           Phoenix       425115   2712.8190        22      2.70 -1848.8919\n",
              "5           Chicago       848790   4405.1650        52      5.80 -1757.9257\n",
              "6           Houston      1618074  12588.7554        87      6.54 -1745.4529\n",
              "7       Springfield       578391   2038.1000        22      3.80 -1488.3651\n",
              "8      Jacksonville       157404   3139.0670        24      1.95 -1352.4994\n",
              "9  Colorado Springs       242718   1024.5840        16      1.90 -1178.7004"
            ]
          },
          "metadata": {
            "tags": []
          },
          "execution_count": 22
        }
      ]
    },
    {
      "cell_type": "markdown",
      "metadata": {
        "id": "3BzxNf43bm5q"
      },
      "source": [
        "## Let's visualize the top 5 cities."
      ]
    },
    {
      "cell_type": "code",
      "metadata": {
        "colab": {
          "base_uri": "https://localhost:8080/",
          "height": 422
        },
        "id": "ze4G_K1x6na_",
        "outputId": "f8574840-b444-4dc4-b058-9657a086a4d0"
      },
      "source": [
        "plt.subplots(figsize=(10,6))\n",
        "sns.barplot(y=by_city.head().City,x=by_city.head().Profit)\n",
        "plt.title(\"Top 5 Cities with most negative profit\")"
      ],
      "execution_count": null,
      "outputs": [
        {
          "output_type": "execute_result",
          "data": {
            "text/plain": [
              "Text(0.5, 1.0, 'Top 5 Cities with most negative profit')"
            ]
          },
          "metadata": {
            "tags": []
          },
          "execution_count": 23
        },
        {
          "output_type": "display_data",
          "data": {
            "image/png": "[encoded data removed]",
            "text/plain": [
              "<Figure size 720x432 with 1 Axes>"
            ]
          },
          "metadata": {
            "tags": [],
            "needs_background": "light"
          }
        }
      ]
    },
    {
      "cell_type": "markdown",
      "metadata": {
        "id": "nhjXNiHJb1Qk"
      },
      "source": [
        "As you can see, Philadelphia and New York City has the most negative profit sales.\n",
        "\n",
        "Philadelphia having a total negative profit sales of  -$5,156.89.\n",
        "\n",
        "New York City having a total negative profit sales of  -\\$3,936.74.\n"
      ]
    },
    {
      "cell_type": "markdown",
      "metadata": {
        "id": "NfZqmGIwcKnW"
      },
      "source": [
        "## Let’s now check the total negative profit sales by different segments."
      ]
    },
    {
      "cell_type": "code",
      "metadata": {
        "colab": {
          "base_uri": "https://localhost:8080/",
          "height": 142
        },
        "id": "0_BHiwNeRfb3",
        "outputId": "42700361-da85-42e7-a7d7-955b69310a1b"
      },
      "source": [
        "by_segment=Negative_profits.groupby('Segment').sum().sort_values(by='Profit').reset_index()\n",
        "by_segment.head()"
      ],
      "execution_count": null,
      "outputs": [
        {
          "output_type": "execute_result",
          "data": {
            "text/html": [
              "<div>\n",
              "<style scoped>\n",
              "    .dataframe tbody tr th:only-of-type {\n",
              "        vertical-align: middle;\n",
              "    }\n",
              "\n",
              "    .dataframe tbody tr th {\n",
              "        vertical-align: top;\n",
              "    }\n",
              "\n",
              "    .dataframe thead th {\n",
              "        text-align: right;\n",
              "    }\n",
              "</style>\n",
              "<table border=\"1\" class=\"dataframe\">\n",
              "  <thead>\n",
              "    <tr style=\"text-align: right;\">\n",
              "      <th></th>\n",
              "      <th>Segment</th>\n",
              "      <th>Postal Code</th>\n",
              "      <th>Sales</th>\n",
              "      <th>Quantity</th>\n",
              "      <th>Discount</th>\n",
              "      <th>Profit</th>\n",
              "    </tr>\n",
              "  </thead>\n",
              "  <tbody>\n",
              "    <tr>\n",
              "      <th>0</th>\n",
              "      <td>Consumer</td>\n",
              "      <td>9691920</td>\n",
              "      <td>87702.4010</td>\n",
              "      <td>635</td>\n",
              "      <td>62.16</td>\n",
              "      <td>-24210.2274</td>\n",
              "    </tr>\n",
              "    <tr>\n",
              "      <th>1</th>\n",
              "      <td>Corporate</td>\n",
              "      <td>4953616</td>\n",
              "      <td>45441.0063</td>\n",
              "      <td>396</td>\n",
              "      <td>35.30</td>\n",
              "      <td>-13570.0967</td>\n",
              "    </tr>\n",
              "    <tr>\n",
              "      <th>2</th>\n",
              "      <td>Home Office</td>\n",
              "      <td>2175964</td>\n",
              "      <td>21351.8445</td>\n",
              "      <td>163</td>\n",
              "      <td>15.78</td>\n",
              "      <td>-6784.0302</td>\n",
              "    </tr>\n",
              "  </tbody>\n",
              "</table>\n",
              "</div>"
            ],
            "text/plain": [
              "       Segment  Postal Code       Sales  Quantity  Discount      Profit\n",
              "0     Consumer      9691920  87702.4010       635     62.16 -24210.2274\n",
              "1    Corporate      4953616  45441.0063       396     35.30 -13570.0967\n",
              "2  Home Office      2175964  21351.8445       163     15.78  -6784.0302"
            ]
          },
          "metadata": {
            "tags": []
          },
          "execution_count": 24
        }
      ]
    },
    {
      "cell_type": "markdown",
      "metadata": {
        "id": "7xNdCIt-cP1b"
      },
      "source": [
        "## Let's visualize the data."
      ]
    },
    {
      "cell_type": "code",
      "metadata": {
        "colab": {
          "base_uri": "https://localhost:8080/",
          "height": 422
        },
        "id": "9yF4pb46-OOV",
        "outputId": "780d1d32-5e3c-43c7-df1d-f7ef2f8f40da"
      },
      "source": [
        "plt.subplots(figsize=(10,6))\n",
        "sns.barplot(y=by_segment.Segment,x=by_segment.Profit)\n",
        "plt.title(\"Negative Profit by Segment\")"
      ],
      "execution_count": null,
      "outputs": [
        {
          "output_type": "execute_result",
          "data": {
            "text/plain": [
              "Text(0.5, 1.0, 'Negative Profit by Segment')"
            ]
          },
          "metadata": {
            "tags": []
          },
          "execution_count": 25
        },
        {
          "output_type": "display_data",
          "data": {
            "image/png": "[encoded data removed]",
            "text/plain": [
              "<Figure size 720x432 with 1 Axes>"
            ]
          },
          "metadata": {
            "tags": [],
            "needs_background": "light"
          }
        }
      ]
    },
    {
      "cell_type": "markdown",
      "metadata": {
        "id": "xkObgSNtcT8Y"
      },
      "source": [
        "As you can see, the Consumer segment have the greatest negative profit sales compared to the other two segments having a total negative profit sales of - $24,210.22"
      ]
    },
    {
      "cell_type": "markdown",
      "metadata": {
        "id": "N_nsREQbcXxa"
      },
      "source": [
        "## Let’s now check the negative profit sales related to the Ship modes."
      ]
    },
    {
      "cell_type": "code",
      "metadata": {
        "colab": {
          "base_uri": "https://localhost:8080/",
          "height": 173
        },
        "id": "605Q8w4JYhd5",
        "outputId": "cffdebfc-77bc-445c-9375-bcb689ab7c93"
      },
      "source": [
        "by_ship=Negative_profits.groupby('Ship Mode').sum().sort_values(by='Profit').reset_index()\n",
        "by_ship.head()"
      ],
      "execution_count": null,
      "outputs": [
        {
          "output_type": "execute_result",
          "data": {
            "text/html": [
              "<div>\n",
              "<style scoped>\n",
              "    .dataframe tbody tr th:only-of-type {\n",
              "        vertical-align: middle;\n",
              "    }\n",
              "\n",
              "    .dataframe tbody tr th {\n",
              "        vertical-align: top;\n",
              "    }\n",
              "\n",
              "    .dataframe thead th {\n",
              "        text-align: right;\n",
              "    }\n",
              "</style>\n",
              "<table border=\"1\" class=\"dataframe\">\n",
              "  <thead>\n",
              "    <tr style=\"text-align: right;\">\n",
              "      <th></th>\n",
              "      <th>Ship Mode</th>\n",
              "      <th>Postal Code</th>\n",
              "      <th>Sales</th>\n",
              "      <th>Quantity</th>\n",
              "      <th>Discount</th>\n",
              "      <th>Profit</th>\n",
              "    </tr>\n",
              "  </thead>\n",
              "  <tbody>\n",
              "    <tr>\n",
              "      <th>0</th>\n",
              "      <td>Standard Class</td>\n",
              "      <td>10643987</td>\n",
              "      <td>98768.6645</td>\n",
              "      <td>721</td>\n",
              "      <td>68.72</td>\n",
              "      <td>-28025.6888</td>\n",
              "    </tr>\n",
              "    <tr>\n",
              "      <th>1</th>\n",
              "      <td>Second Class</td>\n",
              "      <td>2711494</td>\n",
              "      <td>27403.5609</td>\n",
              "      <td>204</td>\n",
              "      <td>20.45</td>\n",
              "      <td>-9038.1292</td>\n",
              "    </tr>\n",
              "    <tr>\n",
              "      <th>2</th>\n",
              "      <td>First Class</td>\n",
              "      <td>2734456</td>\n",
              "      <td>21611.7014</td>\n",
              "      <td>203</td>\n",
              "      <td>19.02</td>\n",
              "      <td>-6001.7610</td>\n",
              "    </tr>\n",
              "    <tr>\n",
              "      <th>3</th>\n",
              "      <td>Same Day</td>\n",
              "      <td>731563</td>\n",
              "      <td>6711.3250</td>\n",
              "      <td>66</td>\n",
              "      <td>5.05</td>\n",
              "      <td>-1498.7753</td>\n",
              "    </tr>\n",
              "  </tbody>\n",
              "</table>\n",
              "</div>"
            ],
            "text/plain": [
              "        Ship Mode  Postal Code       Sales  Quantity  Discount      Profit\n",
              "0  Standard Class     10643987  98768.6645       721     68.72 -28025.6888\n",
              "1    Second Class      2711494  27403.5609       204     20.45  -9038.1292\n",
              "2     First Class      2734456  21611.7014       203     19.02  -6001.7610\n",
              "3        Same Day       731563   6711.3250        66      5.05  -1498.7753"
            ]
          },
          "metadata": {
            "tags": []
          },
          "execution_count": 26
        }
      ]
    },
    {
      "cell_type": "markdown",
      "metadata": {
        "id": "0AdUSVFVcd1u"
      },
      "source": [
        "## Let's visualize the data"
      ]
    },
    {
      "cell_type": "code",
      "metadata": {
        "colab": {
          "base_uri": "https://localhost:8080/",
          "height": 422
        },
        "id": "Mf1hCz1bAH4H",
        "outputId": "3acbe666-65d0-4f0a-cfc8-913031abf426"
      },
      "source": [
        "plt.subplots(figsize=(10,6))\n",
        "sns.barplot(y=by_ship['Ship Mode'],x=by_ship.Profit)\n",
        "plt.title(\"Negative Profit by Ship Mode\")"
      ],
      "execution_count": null,
      "outputs": [
        {
          "output_type": "execute_result",
          "data": {
            "text/plain": [
              "Text(0.5, 1.0, 'Negative Profit by Ship Mode')"
            ]
          },
          "metadata": {
            "tags": []
          },
          "execution_count": 27
        },
        {
          "output_type": "display_data",
          "data": {
            "image/png": "[encoded data removed]",
            "text/plain": [
              "<Figure size 720x432 with 1 Axes>"
            ]
          },
          "metadata": {
            "tags": [],
            "needs_background": "light"
          }
        }
      ]
    },
    {
      "cell_type": "markdown",
      "metadata": {
        "id": "lfyYnWsAci0Y"
      },
      "source": [
        "This graph clearly shows how the Standard Class ship mode is dominating in the generation of negative profit sales for the Super shop.\n",
        "\n",
        "The Standard Class ship mode has a total negative profit of -$28,025.68.\n"
      ]
    },
    {
      "cell_type": "markdown",
      "metadata": {
        "id": "F4V6gIJBcnHP"
      },
      "source": [
        "As we can see that the Standard Class ship mode has a significant increase in negative profit sales compared to others, let’s now check the Cities contributing to the negative profit sales by the Standard Class shipping mode."
      ]
    },
    {
      "cell_type": "code",
      "metadata": {
        "colab": {
          "base_uri": "https://localhost:8080/",
          "height": 204
        },
        "id": "4eKDTUqxaCJs",
        "outputId": "0135bbb6-13cb-4376-dec0-db094548c578"
      },
      "source": [
        "Ship_cities=Negative_profits[Negative_profits['Ship Mode']=='Standard Class'].City.value_counts().reset_index().rename(columns={'index':'City','City':'Count'})\n",
        "Ship_cities.head()"
      ],
      "execution_count": null,
      "outputs": [
        {
          "output_type": "execute_result",
          "data": {
            "text/html": [
              "<div>\n",
              "<style scoped>\n",
              "    .dataframe tbody tr th:only-of-type {\n",
              "        vertical-align: middle;\n",
              "    }\n",
              "\n",
              "    .dataframe tbody tr th {\n",
              "        vertical-align: top;\n",
              "    }\n",
              "\n",
              "    .dataframe thead th {\n",
              "        text-align: right;\n",
              "    }\n",
              "</style>\n",
              "<table border=\"1\" class=\"dataframe\">\n",
              "  <thead>\n",
              "    <tr style=\"text-align: right;\">\n",
              "      <th></th>\n",
              "      <th>City</th>\n",
              "      <th>Count</th>\n",
              "    </tr>\n",
              "  </thead>\n",
              "  <tbody>\n",
              "    <tr>\n",
              "      <th>0</th>\n",
              "      <td>New York City</td>\n",
              "      <td>20</td>\n",
              "    </tr>\n",
              "    <tr>\n",
              "      <th>1</th>\n",
              "      <td>Philadelphia</td>\n",
              "      <td>15</td>\n",
              "    </tr>\n",
              "    <tr>\n",
              "      <th>2</th>\n",
              "      <td>San Francisco</td>\n",
              "      <td>12</td>\n",
              "    </tr>\n",
              "    <tr>\n",
              "      <th>3</th>\n",
              "      <td>Houston</td>\n",
              "      <td>12</td>\n",
              "    </tr>\n",
              "    <tr>\n",
              "      <th>4</th>\n",
              "      <td>Chicago</td>\n",
              "      <td>8</td>\n",
              "    </tr>\n",
              "  </tbody>\n",
              "</table>\n",
              "</div>"
            ],
            "text/plain": [
              "            City  Count\n",
              "0  New York City     20\n",
              "1   Philadelphia     15\n",
              "2  San Francisco     12\n",
              "3        Houston     12\n",
              "4        Chicago      8"
            ]
          },
          "metadata": {
            "tags": []
          },
          "execution_count": 28
        }
      ]
    },
    {
      "cell_type": "markdown",
      "metadata": {
        "id": "PfWJfmCpcuWi"
      },
      "source": [
        "## Let's visualize the top 5 cities"
      ]
    },
    {
      "cell_type": "code",
      "metadata": {
        "colab": {
          "base_uri": "https://localhost:8080/",
          "height": 422
        },
        "id": "tCR9aOy0G_rM",
        "outputId": "4c0c1f36-4c27-484e-f3f6-f60900cf0fcb"
      },
      "source": [
        "plt.subplots(figsize=(10,6))\n",
        "sns.barplot(x=Ship_cities.head().City,y=Ship_cities.head().Count)\n",
        "plt.title(\"Top Cities generating negative profits by Standard Ship Mode\")"
      ],
      "execution_count": null,
      "outputs": [
        {
          "output_type": "execute_result",
          "data": {
            "text/plain": [
              "Text(0.5, 1.0, 'Top Cities generating negative profits by Standard Ship Mode')"
            ]
          },
          "metadata": {
            "tags": []
          },
          "execution_count": 29
        },
        {
          "output_type": "display_data",
          "data": {
            "image/png": "[encoded data removed]",
            "text/plain": [
              "<Figure size 720x432 with 1 Axes>"
            ]
          },
          "metadata": {
            "tags": [],
            "needs_background": "light"
          }
        }
      ]
    },
    {
      "cell_type": "markdown",
      "metadata": {
        "id": "X2dNrIZYc9TD"
      },
      "source": [
        "New York City has the most negative profit sales by Standard ship mode followed by Philadelphia."
      ]
    },
    {
      "cell_type": "markdown",
      "metadata": {
        "id": "Q7ND7ni9dAKb"
      },
      "source": [
        "## Let’s now check the Cities contributing to the generation of negative profit sales by the Consumer Segment."
      ]
    },
    {
      "cell_type": "code",
      "metadata": {
        "id": "NJ9MDv7_bKV7",
        "colab": {
          "base_uri": "https://localhost:8080/",
          "height": 204
        },
        "outputId": "815bd5da-424d-47ee-aa0c-65c03d783922"
      },
      "source": [
        "Segment_city=Negative_profits[Negative_profits['Segment']=='Consumer'].City.value_counts().reset_index().rename(columns={'index':'City','City':'Count'})\n",
        "Segment_city.head()"
      ],
      "execution_count": null,
      "outputs": [
        {
          "output_type": "execute_result",
          "data": {
            "text/html": [
              "<div>\n",
              "<style scoped>\n",
              "    .dataframe tbody tr th:only-of-type {\n",
              "        vertical-align: middle;\n",
              "    }\n",
              "\n",
              "    .dataframe tbody tr th {\n",
              "        vertical-align: top;\n",
              "    }\n",
              "\n",
              "    .dataframe thead th {\n",
              "        text-align: right;\n",
              "    }\n",
              "</style>\n",
              "<table border=\"1\" class=\"dataframe\">\n",
              "  <thead>\n",
              "    <tr style=\"text-align: right;\">\n",
              "      <th></th>\n",
              "      <th>City</th>\n",
              "      <th>Count</th>\n",
              "    </tr>\n",
              "  </thead>\n",
              "  <tbody>\n",
              "    <tr>\n",
              "      <th>0</th>\n",
              "      <td>New York City</td>\n",
              "      <td>21</td>\n",
              "    </tr>\n",
              "    <tr>\n",
              "      <th>1</th>\n",
              "      <td>Houston</td>\n",
              "      <td>10</td>\n",
              "    </tr>\n",
              "    <tr>\n",
              "      <th>2</th>\n",
              "      <td>Chicago</td>\n",
              "      <td>10</td>\n",
              "    </tr>\n",
              "    <tr>\n",
              "      <th>3</th>\n",
              "      <td>Philadelphia</td>\n",
              "      <td>9</td>\n",
              "    </tr>\n",
              "    <tr>\n",
              "      <th>4</th>\n",
              "      <td>San Francisco</td>\n",
              "      <td>8</td>\n",
              "    </tr>\n",
              "  </tbody>\n",
              "</table>\n",
              "</div>"
            ],
            "text/plain": [
              "            City  Count\n",
              "0  New York City     21\n",
              "1        Houston     10\n",
              "2        Chicago     10\n",
              "3   Philadelphia      9\n",
              "4  San Francisco      8"
            ]
          },
          "metadata": {
            "tags": []
          },
          "execution_count": 30
        }
      ]
    },
    {
      "cell_type": "markdown",
      "metadata": {
        "id": "RgTTVb-kdCMx"
      },
      "source": [
        "## Let's visualize the top cities"
      ]
    },
    {
      "cell_type": "code",
      "metadata": {
        "colab": {
          "base_uri": "https://localhost:8080/",
          "height": 422
        },
        "id": "J3KrYG-K5jQb",
        "outputId": "097c48f9-9506-48ef-ff71-a17bc6943f9a"
      },
      "source": [
        "plt.subplots(figsize=(10,6))\n",
        "sns.barplot(x=Segment_city.head().City,y=Segment_city.head().Count)\n",
        "plt.title(\"Top Cities generating negative profits by Consumer Segment\")"
      ],
      "execution_count": null,
      "outputs": [
        {
          "output_type": "execute_result",
          "data": {
            "text/plain": [
              "Text(0.5, 1.0, 'Top Cities generating negative profits by Consumer Segment')"
            ]
          },
          "metadata": {
            "tags": []
          },
          "execution_count": 31
        },
        {
          "output_type": "display_data",
          "data": {
            "image/png": "[encoded data removed]",
            "text/plain": [
              "<Figure size 720x432 with 1 Axes>"
            ]
          },
          "metadata": {
            "tags": [],
            "needs_background": "light"
          }
        }
      ]
    },
    {
      "cell_type": "markdown",
      "metadata": {
        "id": "B1_pdgFqdPVj"
      },
      "source": [
        "Again the New York City has the most negative profit sales by Consumer Segment.\n",
        "Now we have enough evidence to conclude our hypothesis testing.\n"
      ]
    },
    {
      "cell_type": "markdown",
      "metadata": {
        "id": "-0pKj7RJdSIg"
      },
      "source": [
        "## Result\n",
        "\n",
        "Looking at the above results we can say that the types of Ship modes, types of Segments and the City where it is shipped has an impact on the declining profit margin for Tables and Bookcases.\n",
        "\n",
        "Now we have enough evidence to reject the null hypothesis (Ho) and accept the alternative hypothesis (H1) claiming that the declining profit of Tables and Bookcases has some impact from the types of Ship modes or types of Segments or the City where it is shipped.\n",
        "\n"
      ]
    }
  ]
}